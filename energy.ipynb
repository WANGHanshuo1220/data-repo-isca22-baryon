{
    "cells": [
        {
            "cell_type": "code",
            "execution_count": 64,
            "metadata": {},
            "outputs": [],
            "source": [
                "''' Required packages. Use python3 -m pip install xxx for all the packages. '''\n",
                "from pprint import pprint\n",
                "import pandas as pd\n",
                "import numpy as np\n",
                "import matplotlib.font_manager as fm\n",
                "from matplotlib import pyplot as plt\n",
                "import easypyplot"
            ]
        },
        {
            "cell_type": "code",
            "execution_count": 65,
            "metadata": {},
            "outputs": [],
            "source": [
                "csv_path = './2_energycost/energy.csv'\n",
                "# workload_list = ['mix1', 'mix2', 'mix3', 'mix4']\n",
                "workload_list = ['gcc', 'bwaves', 'mcf', 'cactu', 'lbm', 'omnetpp', 'cam4', 'fotonik3d', 'roms', 'xz', 'cc.twitter', 'cc.web', 'pr.twitter', 'pr.web', 'resnet50', 'resnext50', 'YCSB-A', 'YCSB-B', 'Geomean']\n",
                "energy_scheme_list = ['Footprint Cache', 'Baryon']\n",
                "workload_dict = {item: item for item in workload_list}\n",
                "energy_scheme_dict = {item: item for item in energy_scheme_list}\n",
                "\n",
                "energy_title = 'Normalized Energy'\n",
                "energy_name = 'graph_energy'\n",
                "energy_ylim = (0, 1.5)\n",
                "energy_yticks = list(np.arange(energy_ylim[0], energy_ylim[1]+0.01, 0.2))\n",
                "\n",
                "new_color = [\n",
                "'#b3e2cd',\n",
                "'#fdcdac',\n",
                "'#cbd5e8',\n",
                "'#f4cae4',\n",
                "'#e6f5c9',\n",
                "'#fff2ae',\n",
                "'#f1e2cc',\n",
                "'#cccccc',\n",
                "]\n",
                "\n",
                "\n",
                "fpcache_color = '#c4cfe4'\n",
                "yacc_color = new_color[2]\n",
                "baryon_color = new_color[6]\n",
                "hybrid2_color = new_color[3]\n",
                "energy_bar_colors = [fpcache_color, baryon_color]\n",
                "assert len(energy_bar_colors) == len(energy_scheme_dict)\n",
                "\n",
                "# pprint(energy_yticks)"
            ]
        },
        {
            "cell_type": "code",
            "execution_count": 66,
            "metadata": {},
            "outputs": [],
            "source": [
                "''' Plot parameters. Change only if you want to resize the graph, etc. '''\n",
                "fig_bar_width = 0.7\n",
                "fig_dims = (5, 2)\n",
                "fig_label_fontsize = 10\n",
                "ft = fm.FontProperties('Times New Roman')\n",
                "ft.set_size(10.0)"
            ]
        },
        {
            "cell_type": "code",
            "execution_count": 67,
            "metadata": {},
            "outputs": [
                {
                    "name": "stdout",
                    "output_type": "stream",
                    "text": [
                        "[[1.0, 0.56],\n",
                        " [1.0, 0.57],\n",
                        " [1.0, 0.66],\n",
                        " [1.0, 0.62],\n",
                        " [1.0, 0.66],\n",
                        " [1.0, 1.06],\n",
                        " [1.0, 1.14],\n",
                        " [1.0, 0.53],\n",
                        " [1.0, 0.75],\n",
                        " [1.0, 1.26],\n",
                        " [1.0, 0.57],\n",
                        " [1.0, 0.39],\n",
                        " [1.0, 0.7],\n",
                        " [1.0, 0.4],\n",
                        " [1.0, 0.92],\n",
                        " [1.0, 1.01],\n",
                        " [1.0, 0.88],\n",
                        " [1.0, 0.88],\n",
                        " [1.0, 0.72]]\n"
                    ]
                }
            ],
            "source": [
                "''' Load data from file. '''\n",
                "csv_hd = pd.read_csv(csv_path, sep=',')\n",
                "energy_xlabels = []\n",
                "energy_xticks = []\n",
                "energy_data_2darr = []\n",
                "xtick = -1\n",
                "for idx, row in csv_hd.iterrows():\n",
                "    workload_fullname = row[0]\n",
                "    if any(workload in workload_fullname for workload in workload_list):\n",
                "        row_value = []\n",
                "        for col in row.keys():\n",
                "            if any(scheme in col for scheme in energy_scheme_dict):\n",
                "                row_value.append(row[col])\n",
                "        energy_data_2darr.append(row_value)\n",
                "        if workload_fullname.startswith('5'):\n",
                "            abbr_name = workload_fullname[0:3]\n",
                "        else:\n",
                "            abbr_name = workload_fullname\n",
                "        energy_xlabels.append(abbr_name)\n",
                "        xtick += 1\n",
                "        energy_xticks.append(xtick)\n",
                "assert len(energy_data_2darr) == len(energy_xlabels) == len(energy_xticks)\n",
                "\n",
                "pprint(energy_data_2darr)"
            ]
        },
        {
            "cell_type": "code",
            "execution_count": 68,
            "metadata": {},
            "outputs": [
                {
                    "data": {
                        "image/png": "[encoded data removed]",
                        "text/plain": [
                            "<Figure size 360x144 with 1 Axes>"
                        ]
                    },
                    "metadata": {
                        "needs_background": "light"
                    },
                    "output_type": "display_data"
                }
            ],
            "source": [
                "''' Ploting script '''\n",
                "pp, fig = easypyplot.pdf.plot_setup(energy_name, fig_dims)\n",
                "ax = fig.gca()\n",
                "easypyplot.format.turn_off_box(ax)\n",
                "\n",
                "h = easypyplot.barchart.draw(\n",
                "    ax, energy_data_2darr,\n",
                "    width=fig_bar_width,\n",
                "    breakdown=False,\n",
                "    group_names=energy_xlabels,\n",
                "    xticks=energy_xticks,\n",
                "    xticklabelfontsize=fig_label_fontsize,\n",
                "    xticklabelrotation=90,\n",
                "    prop=ft,\n",
                "    colors=energy_bar_colors)\n",
                "\n",
                "''' x axis '''\n",
                "ax.set_xlim([ax.get_xticks()[0] - 1, ax.get_xticks()[-1] + 1])\n",
                "ax.set_xticks(energy_xticks)\n",
                "ax.set_xticklabels(energy_xlabels, fontsize=fig_label_fontsize, fontproperties=ft)\n",
                "ax.xaxis.set_ticks_position('none') # Comment this and the next line for visible ticks\n",
                "# ax.tick_params(direction='in') # [in, out, inout]\n",
                "# ax.set_xlabel(fig_title)\n",
                "\n",
                "''' y axis '''\n",
                "ax.yaxis.grid(True)\n",
                "ax.set_ylim(energy_ylim)\n",
                "ax.set_yticks(energy_yticks)\n",
                "ax.set_ylabel(energy_title, multialignment='center', fontproperties=ft)\n",
                "\n",
                "''' values on top of each bar '''\n",
                "# for group_id in range(len(workload_dict)):\n",
                "#     for entry_id in range(len(scheme_dict)):\n",
                "#         bar_value = fig_data_2darr[group_id][entry_id]\n",
                "#         bar_x = ax.get_xticks()[group_id] + fig_bar_width / len(scheme_dict) * (entry_id - len(scheme_dict) / 2)\n",
                "#         bar_text = str('{:.2f}'.format(bar_value))\n",
                "#         ax.text(bar_x, bar_value + 0.1, bar_text, ha='left', va='top',\n",
                "#                 fontsize=fig_label_fontsize,\n",
                "#                 # rotation=90,\n",
                "#                 fontproperties=ft,\n",
                "#                 )\n",
                "\n",
                "''' legend '''\n",
                "legend = [energy_scheme_dict[item] for item in energy_scheme_dict]\n",
                "fig.legend(h, legend, loc='upper center', bbox_to_anchor=(0.5, 1.09),\n",
                "        ncol=4, frameon=False, prop=ft)\n",
                "\n",
                "''' last resize '''\n",
                "plt.tight_layout()\n",
                "easypyplot.format.resize_ax_box(ax, hratio=0.8)"
            ]
        },
        {
            "cell_type": "code",
            "execution_count": 69,
            "metadata": {},
            "outputs": [],
            "source": [
                "''' Save figures'''\n",
                "fig.savefig(energy_name+'.pdf', format=\"pdf\", bbox_inches = 'tight')\n",
                "# easypyplot.pdf.plot_teardown(pp) # it generates wierd chopped figures"
            ]
        }
    ],
    "metadata": {
        "interpreter": {
            "hash": "31f2aee4e71d21fbe5cf8b01ff0e069b9275f58929596ceb00d14d90e3e16cd6"
        },
        "kernelspec": {
            "display_name": "Python 3.6.9 64-bit",
            "name": "python3"
        },
        "language_info": {
            "codemirror_mode": {
                "name": "ipython",
                "version": 3
            },
            "file_extension": ".py",
            "mimetype": "text/x-python",
            "name": "python",
            "nbconvert_exporter": "python",
            "pygments_lexer": "ipython3",
            "version": "3.8.5"
        },
        "orig_nbformat": 4
    },
    "nbformat": 4,
    "nbformat_minor": 2
}
