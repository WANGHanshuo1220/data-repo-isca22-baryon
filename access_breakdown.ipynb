{
 "cells": [
  {
   "cell_type": "code",
   "execution_count": 29,
   "metadata": {},
   "outputs": [
    {
     "name": "stdout",
     "output_type": "stream",
     "text": [
      "The autoreload extension is already loaded. To reload it, use:\n",
      "  %reload_ext autoreload\n"
     ]
    }
   ],
   "source": [
    "''' Required packages. Use python3 -m pip install xxx for all the packages. '''\n",
    "from pprint import pprint\n",
    "import pandas as pd\n",
    "import numpy as np\n",
    "import matplotlib.font_manager as fm\n",
    "from matplotlib import pyplot as plt\n",
    "import easypyplot\n",
    "%load_ext autoreload\n",
    "%autoreload 2"
   ]
  },
  {
   "cell_type": "code",
   "execution_count": 30,
   "metadata": {},
   "outputs": [],
   "source": [
    "''' [TODO] Figure properties. Specify the csv file and corresponding labels. '''\n",
    "workload_list = [\n",
    "# '502.gcc_r',\n",
    "'605.mcf_s',\n",
    "# '519.lbm_r',\n",
    "'620.omnetpp_s',\n",
    "# '549.fotonik3d_r',\n",
    "'654.roms_s',\n",
    "'657.xz_s'\n",
    "]\n",
    "scheme_list = ['Read Hit', 'Write Hit (no overflow)', 'Read Miss', 'Write Miss', 'Write Overflow']\n",
    "workload_dict = {item: item for item in workload_list}\n",
    "scheme_dict = {item: item for item in scheme_list}\n",
    "\n",
    "fig_title = 'Access Breakdown'\n",
    "fig_name = 'fig_access_breakdown'\n",
    "fig_ylim = (0, 1)\n",
    "fig_yticks = list(np.arange(fig_ylim[0], fig_ylim[1]+0.1, 0.25))\n",
    "# hit_colors = easypyplot.color.color_scale(easypyplot.color.COLOR_SET[1], 2, low=0.65, high=0.8)[::-1]\n",
    "hit_colors = ['#c8e6c9', '#A2BAA3']\n",
    "# miss_colors = easypyplot.color.color_scale(easypyplot.color.COLOR_SET[2], 2, low=0.65, high=0.8)[::-1]\n",
    "miss_colors = ['#e6aecf', '#C494B0']\n",
    "overflow_color = [easypyplot.color.COLOR_SET[5]]\n",
    "fig_bar_colors = hit_colors + miss_colors + overflow_color\n",
    "assert len(fig_bar_colors) == len(scheme_dict)\n",
    "\n",
    "# pprint(fig_yticks)"
   ]
  },
  {
   "cell_type": "code",
   "execution_count": 31,
   "metadata": {},
   "outputs": [],
   "source": [
    "''' Plot parameters. Change only if you want to resize the graph, etc. '''\n",
    "fig_bar_width = 0.5\n",
    "fig_dims = (5, 2.5)\n",
    "fig_label_fontsize = 10\n",
    "ft = fm.FontProperties('Times New Roman')\n",
    "ft.set_size(10.0)"
   ]
  },
  {
   "cell_type": "code",
   "execution_count": 32,
   "metadata": {},
   "outputs": [],
   "source": [
    "''' Load data from file. '''\n",
    "csv_path = './layout_access_breakdown/stability_stagecommit.csv'\n",
    "csv_hd = pd.read_csv(csv_path, sep=',')\n",
    "fig_xlabels = []\n",
    "fig_stage_xticks = []\n",
    "fig_data_stage_2darr = []\n",
    "xtick = 1\n",
    "schemedict1 = ['Stage_' + item for item in scheme_dict]\n",
    "for idx, row in csv_hd.iterrows():\n",
    "    workload_fullname = row[0]\n",
    "    if any(workload in workload_fullname for workload in workload_list):\n",
    "        row_value = []\n",
    "        for col in row.keys():\n",
    "            if any(scheme in col for scheme in schemedict1):\n",
    "                row_value.append(row[col])\n",
    "        fig_data_stage_2darr.append(row_value)\n",
    "        fig_xlabels.append(workload_fullname)\n",
    "        xtick += 2\n",
    "        fig_stage_xticks.append(xtick)\n",
    "assert len(fig_data_stage_2darr) == len(fig_xlabels) == len(fig_stage_xticks)"
   ]
  },
  {
   "cell_type": "code",
   "execution_count": 33,
   "metadata": {},
   "outputs": [],
   "source": [
    "''' Load data from file. '''\n",
    "csv_path = './layout_access_breakdown/stability_stagecommit.csv'\n",
    "csv_hd = pd.read_csv(csv_path, sep=',')\n",
    "fig_commit_xticks = []\n",
    "fig_data_commit_2darr = []\n",
    "xtick = 1.5\n",
    "schemedict1 = ['Commit_' + item for item in scheme_dict]\n",
    "for idx, row in csv_hd.iterrows():\n",
    "    workload_fullname = row[0]\n",
    "    if any(workload in workload_fullname for workload in workload_list):\n",
    "        row_value = []\n",
    "        for col in row.keys():\n",
    "            if any(scheme in col for scheme in schemedict1):\n",
    "                row_value.append(row[col])\n",
    "        fig_data_commit_2darr.append(row_value)\n",
    "        xtick += 2\n",
    "        fig_commit_xticks.append(xtick)\n",
    "assert len(fig_data_commit_2darr) == len(fig_xlabels) == len(fig_commit_xticks)"
   ]
  },
  {
   "cell_type": "code",
   "execution_count": 34,
   "metadata": {},
   "outputs": [
    {
     "data": {
      "image/png": "[encoded data removed]",
      "text/plain": [
       "<Figure size 360x180 with 1 Axes>"
      ]
     },
     "metadata": {
      "needs_background": "light"
     },
     "output_type": "display_data"
    }
   ],
   "source": [
    "''' Ploting script '''\n",
    "pp, fig = easypyplot.pdf.plot_setup(fig_name, fig_dims)\n",
    "ax = fig.add_subplot(1, 2, 1)\n",
    "easypyplot.format.turn_off_box(ax)\n",
    "fig_xlabels = workload_list\n",
    "h = easypyplot.barchart.draw(\n",
    "    ax, fig_data_stage_2darr,\n",
    "    width=fig_bar_width,\n",
    "    breakdown=True,\n",
    "    group_names=fig_xlabels,\n",
    "    xticks=fig_stage_xticks,\n",
    "    # xticklabelfontsize=fig_label_fontsize,\n",
    "    xticklabelrotation=40, # Uncomment this for rotated x tick labels\n",
    "    prop=ft, # Uncomment if easypyplot supports font\n",
    "    colors=fig_bar_colors)\n",
    "h2 = easypyplot.barchart.draw(\n",
    "    ax, fig_data_commit_2darr,\n",
    "    width=fig_bar_width,\n",
    "    breakdown=True,\n",
    "    group_names=fig_xlabels,\n",
    "    xticks=fig_commit_xticks,\n",
    "    # xticklabelfontsize=fig_label_fontsize,\n",
    "    xticklabelrotation=40, # Uncomment this for rotated x tick labels\n",
    "    prop=ft, # Uncomment if easypyplot supports font\n",
    "    colors=fig_bar_colors)\n",
    "\n",
    "''' x axis '''\n",
    "ax.xaxis.set_tick_params(pad=-5)\n",
    "ax.set_xlim([ax.get_xticks()[0] - 2, ax.get_xticks()[-1] + 1])\n",
    "fig_xticks_fix = [item +0.7 for item in fig_stage_xticks]\n",
    "# fig_xticks_fix[0] -= 0.2\n",
    "ax.set_xticks(fig_xticks_fix)\n",
    "ax.set_xticklabels(fig_xlabels, fontsize=fig_label_fontsize, fontproperties=ft, ha='right')\n",
    "ax.xaxis.set_ticks_position('none') # Comment this and the next line for visible ticks\n",
    "# ax.tick_params(direction='in') # [in, out, inout]\n",
    "# ax.set_xlabel(fig_title)\n",
    "\n",
    "''' y axis '''\n",
    "ax.yaxis.grid(True)\n",
    "ax.set_ylim(fig_ylim)\n",
    "ax.set_yticks(fig_yticks)\n",
    "str_yticks = ['%.2f' % item for item in fig_yticks]\n",
    "ax.set_yticklabels(str_yticks, fontsize=fig_label_fontsize, fontproperties=ft)\n",
    "ax.set_ylabel(fig_title, multialignment='center', fontsize=fig_label_fontsize, fontproperties=ft)\n",
    "\n",
    "''' legend '''\n",
    "legend = [scheme_dict[item] for item in scheme_dict]\n",
    "fig.legend(h, legend, loc='upper center', bbox_to_anchor=(0.5, 1.15),\n",
    "        ncol=3, frameon=False, prop=ft)\n",
    "\n",
    "''' last resize '''\n",
    "plt.tight_layout()\n",
    "easypyplot.format.resize_ax_box(ax, hratio=0.8)"
   ]
  },
  {
   "cell_type": "code",
   "execution_count": 35,
   "metadata": {},
   "outputs": [],
   "source": [
    "''' Save figures'''\n",
    "fig.savefig(fig_name+'.pdf', format=\"pdf\", bbox_inches = 'tight')\n",
    "# easypyplot.pdf.plot_teardown(pp) # it generates wierd chopped figures"
   ]
  }
 ],
 "metadata": {
  "interpreter": {
   "hash": "1207dff62df778be21e834c7da48153383c263f80b9452aa83a0e3199f60a4f5"
  },
  "kernelspec": {
   "display_name": "Python 3.8.5 ('base')",
   "language": "python",
   "name": "python3"
  },
  "language_info": {
   "codemirror_mode": {
    "name": "ipython",
    "version": 3
   },
   "file_extension": ".py",
   "mimetype": "text/x-python",
   "name": "python",
   "nbconvert_exporter": "python",
   "pygments_lexer": "ipython3",
   "version": "3.8.5"
  }
 },
 "nbformat": 4,
 "nbformat_minor": 2
}
