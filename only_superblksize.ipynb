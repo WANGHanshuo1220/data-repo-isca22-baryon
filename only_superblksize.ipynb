{
    "cells": [
        {
            "cell_type": "code",
            "execution_count": 62,
            "metadata": {},
            "outputs": [],
            "source": [
                "''' Required packages. Use python3 -m pip install xxx for all the packages. '''\n",
                "from pprint import pprint\n",
                "import pandas as pd\n",
                "import numpy as np\n",
                "import matplotlib.font_manager as fm\n",
                "from matplotlib import pyplot as plt\n",
                "import easypyplot"
            ]
        },
        {
            "cell_type": "code",
            "execution_count": 63,
            "metadata": {},
            "outputs": [],
            "source": [
                "csv_path = './3_sensitivity/superblksize.csv'\n",
                "workload_list = ['mix1', 'mix2', 'mix3', 'mix4']\n",
                "sbsize_scheme_list = ['2 Performance', '4 Performance', '8 Performance', '16 Performance']\n",
                "workload_dict = {item: item for item in workload_list}\n",
                "sbsize_scheme_dict = {\n",
                "    '2 Performance': '2',\n",
                "    '4 Performance': '4',\n",
                "    '8 Performance': '8 (Baryon)',\n",
                "    '16 Performance': '16',\n",
                "}\n",
                "\n",
                "sbsize_title = 'Normalized Speedup'\n",
                "sbsize_name = 'graph_superblksize'\n",
                "sbsize_ylim = (0, 1.3)\n",
                "sbsize_yticks = list(np.arange(sbsize_ylim[0], sbsize_ylim[1]+0.01, 0.2))\n",
                "sbsize_bar_colors = [easypyplot.color.COLOR_SET[i] for i in [4, 5, 0, 3]]\n",
                "assert len(sbsize_bar_colors) == len(scheme_dict)\n",
                "\n",
                "# pprint(sbsize_yticks)"
            ]
        },
        {
            "cell_type": "code",
            "execution_count": 64,
            "metadata": {},
            "outputs": [],
            "source": [
                "''' Plot parameters. Change only if you want to resize the graph, etc. '''\n",
                "fig_bar_width = 0.7\n",
                "fig_dims = (5, 2)\n",
                "fig_label_fontsize = 10\n",
                "ft = fm.FontProperties('Times New Roman')\n",
                "ft.set_size(10.0)"
            ]
        },
        {
            "cell_type": "code",
            "execution_count": 65,
            "metadata": {},
            "outputs": [
                {
                    "name": "stdout",
                    "output_type": "stream",
                    "text": [
                        "[[0.7746478873, 0.9090909091, 1.0, 1.145833333],\n",
                        " [0.9593495934999999, 0.9752066116, 1.0, 0.9752066116],\n",
                        " [0.8213483145999999, 0.8744019139, 1.0, 1.020949721],\n",
                        " [0.8104089219, 0.9276595745, 1.0, 1.023474178]]\n"
                    ]
                }
            ],
            "source": [
                "''' Load data from file. '''\n",
                "csv_hd = pd.read_csv(csv_path, sep=',')\n",
                "sbsize_xlabels = []\n",
                "sbsize_xticks = []\n",
                "sbsize_data_2darr = []\n",
                "xtick = -1\n",
                "for idx, row in csv_hd.iterrows():\n",
                "    workload_fullname = row[0]\n",
                "    if any(workload in workload_fullname for workload in workload_list):\n",
                "        row_value = []\n",
                "        for col in row.keys():\n",
                "            if any(scheme in col for scheme in scheme_dict):\n",
                "                row_value.append(row[col])\n",
                "        sbsize_data_2darr.append(row_value)\n",
                "        sbsize_xlabels.append(workload_fullname)\n",
                "        xtick += 1\n",
                "        sbsize_xticks.append(xtick)\n",
                "assert len(sbsize_data_2darr) == len(sbsize_xlabels) == len(sbsize_xticks)\n",
                "\n",
                "pprint(sbsize_data_2darr)"
            ]
        },
        {
            "cell_type": "code",
            "execution_count": 66,
            "metadata": {},
            "outputs": [
                {
                    "name": "stdout",
                    "output_type": "stream",
                    "text": [
                        "10.0\n"
                    ]
                },
                {
                    "data": {
                        "image/png": "[encoded data removed]",
                        "text/plain": [
                            "<Figure size 360x144 with 1 Axes>"
                        ]
                    },
                    "metadata": {
                        "needs_background": "light"
                    },
                    "output_type": "display_data"
                }
            ],
            "source": [
                "''' Ploting script '''\n",
                "pp, fig = easypyplot.pdf.plot_setup(fig_name, fig_dims)\n",
                "ax = fig.gca()\n",
                "easypyplot.format.turn_off_box(ax)\n",
                "\n",
                "h = easypyplot.barchart.draw(\n",
                "    ax, fig_data_2darr,\n",
                "    width=fig_bar_width,\n",
                "    breakdown=False,\n",
                "    group_names=fig_xlabels,\n",
                "    xticks=fig_xticks,\n",
                "    xticklabelfontsize=fig_label_fontsize,\n",
                "    xticklabelrotation=0,\n",
                "    prop=ft,\n",
                "    colors=fig_bar_colors)\n",
                "\n",
                "''' x axis '''\n",
                "ax.set_xlim([ax.get_xticks()[0] - 1, ax.get_xticks()[-1] + 1])\n",
                "ax.set_xticks(fig_xticks)\n",
                "ax.set_xticklabels(fig_xlabels, fontsize=fig_label_fontsize, fontproperties=ft)\n",
                "ax.xaxis.set_ticks_position('none') # Comment this and the next line for visible ticks\n",
                "# ax.tick_params(direction='in') # [in, out, inout]\n",
                "# ax.set_xlabel(fig_title)\n",
                "\n",
                "''' y axis '''\n",
                "ax.yaxis.grid(True)\n",
                "ax.set_ylim(fig_ylim)\n",
                "ax.set_yticks(fig_yticks)\n",
                "ax.set_ylabel(fig_title, multialignment='center', fontproperties=ft)\n",
                "\n",
                "''' values on top of each bar '''\n",
                "# for group_id in range(len(workload_dict)):\n",
                "#     for entry_id in range(len(scheme_dict)):\n",
                "#         bar_value = fig_data_2darr[group_id][entry_id]\n",
                "#         bar_x = ax.get_xticks()[group_id] + fig_bar_width / len(scheme_dict) * (entry_id - len(scheme_dict) / 2)\n",
                "#         bar_text = str('{:.2f}'.format(bar_value))\n",
                "#         ax.text(bar_x, bar_value + 0.1, bar_text, ha='left', va='top',\n",
                "#                 fontsize=fig_label_fontsize,\n",
                "#                 # rotation=90,\n",
                "#                 fontproperties=ft,\n",
                "#                 )\n",
                "\n",
                "''' legend '''\n",
                "legend = [scheme_dict[item] for item in scheme_dict]\n",
                "fig.legend(h, legend, loc='upper center', bbox_to_anchor=(0.5, 1.05),\n",
                "        ncol=4, frameon=False, prop=ft)\n",
                "\n",
                "''' last resize '''\n",
                "plt.tight_layout()\n",
                "easypyplot.format.resize_ax_box(ax, hratio=0.8)"
            ]
        },
        {
            "cell_type": "code",
            "execution_count": 67,
            "metadata": {},
            "outputs": [],
            "source": [
                "''' Save figures'''\n",
                "fig.savefig(fig_name+'.pdf', format=\"pdf\", bbox_inches = 'tight')\n",
                "# easypyplot.pdf.plot_teardown(pp) # it generates wierd chopped figures"
            ]
        }
    ],
    "metadata": {
        "interpreter": {
            "hash": "31f2aee4e71d21fbe5cf8b01ff0e069b9275f58929596ceb00d14d90e3e16cd6"
        },
        "kernelspec": {
            "display_name": "Python 3.6.9 64-bit",
            "name": "python3"
        },
        "language_info": {
            "codemirror_mode": {
                "name": "ipython",
                "version": 3
            },
            "file_extension": ".py",
            "mimetype": "text/x-python",
            "name": "python",
            "nbconvert_exporter": "python",
            "pygments_lexer": "ipython3",
            "version": "3.6.9"
        },
        "orig_nbformat": 4
    },
    "nbformat": 4,
    "nbformat_minor": 2
}
