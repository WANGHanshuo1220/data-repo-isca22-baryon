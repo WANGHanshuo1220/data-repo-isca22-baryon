{
 "cells": [
  {
   "cell_type": "code",
   "execution_count": 41,
   "metadata": {},
   "outputs": [
    {
     "name": "stdout",
     "output_type": "stream",
     "text": [
      "The autoreload extension is already loaded. To reload it, use:\n",
      "  %reload_ext autoreload\n"
     ]
    }
   ],
   "source": [
    "''' Required packages. Use python3 -m pip install xxx for all the packages. '''\n",
    "from pprint import pprint\n",
    "import pandas as pd\n",
    "import numpy as np\n",
    "import matplotlib.font_manager as fm\n",
    "from matplotlib import pyplot as plt\n",
    "import easypyplot\n",
    "%load_ext autoreload\n",
    "%autoreload 2"
   ]
  },
  {
   "cell_type": "code",
   "execution_count": 42,
   "metadata": {},
   "outputs": [],
   "source": [
    "''' [TODO] Figure properties. Specify the csv file and corresponding labels. '''\n",
    "workload_list = [\n",
    "# '502.gcc_r',\n",
    "'505.mcf_r',\n",
    "'520.omnetpp_r',\n",
    "# '549.fotonik3d_r',\n",
    "'pr.twi',\n",
    "'resnet50',\n",
    "'ycsb.a',\n",
    "'geomean'\n",
    "]\n",
    "workload_dict = {item: item for item in workload_list}\n",
    "workload_dict['pr.twi'] = 'pr.twi'\n",
    "workload_dict['resnet50'] = 'resnet50'\n",
    "workload_dict['ycsb.a'] = 'YCSB-A'\n",
    "workload_dict['geomean'] = 'Geomean'\n",
    "scheme_dict = {\n",
    "    'Baryon': 'Baryon',\n",
    "    'No Zero Block Opt': 'No Zero Block Opt',\n",
    "    'Not Cacheline-aligned': 'Not Cacheline-aligned',\n",
    "    'No Decomp Cost': 'No Decomp Cost',\n",
    "    'Arbitrary CF Mixing': 'Arbitrary CF Mixing',\n",
    "}\n",
    "\n",
    "fig_title = 'Normalized Speedup'\n",
    "fig_name = 'graph_compress'\n",
    "fig_ylim = (0, 1.25)\n",
    "fig_yticks = list(np.arange(fig_ylim[0], fig_ylim[1]+0.1, 0.25))\n",
    "new_color = [\n",
    "'#b3e2cd',\n",
    "'#fdcdac',\n",
    "'#cbd5e8',\n",
    "'#f4cae4',\n",
    "'#e6f5c9',\n",
    "'#fff2ae',\n",
    "'#f1e2cc',\n",
    "'#cccccc',\n",
    "]\n",
    "baryon_color = new_color[2]\n",
    "fig_bar_colors = easypyplot.color.color_scale(baryon_color, len(scheme_dict), low=0.7, high=1.0)\n",
    "assert len(fig_bar_colors) == len(scheme_dict)\n",
    "\n",
    "# pprint(fig_yticks)"
   ]
  },
  {
   "cell_type": "code",
   "execution_count": 43,
   "metadata": {},
   "outputs": [],
   "source": [
    "''' Plot parameters. Change only if you want to resize the graph, etc. '''\n",
    "fig_bar_width = 0.75\n",
    "fig_dims = (4, 2)\n",
    "fig_label_fontsize = 10\n",
    "ft = fm.FontProperties('Times New Roman')\n",
    "ft.set_size(10.0)"
   ]
  },
  {
   "cell_type": "code",
   "execution_count": 44,
   "metadata": {},
   "outputs": [
    {
     "name": "stdout",
     "output_type": "stream",
     "text": [
      "[[1.0, 1.0, 0.3885, 1.0, 1.0242], [1.0, 0.9826, 0.7458, 1.0025, 1.0476], [1.0, 0.9497, 0.4573, 1.001, 1.0103], [1.0, 0.9896, 0.8112, 1.0019, 1.0001], [1.0, 0.9141, 0.6713, 1.008, 1.0207], [1.0, 0.9354, 0.5892, 1.013, 1.0226]]\n"
     ]
    }
   ],
   "source": [
    "''' (Speedup) Load data from file. '''\n",
    "csv_path = './1_performance/compression_speedup.csv'\n",
    "csv_hd = pd.read_csv(csv_path, sep=',')\n",
    "fig_xlabels = []\n",
    "fig_stage_xticks = []\n",
    "fig_data_stage_2darr = []\n",
    "xtick = 1\n",
    "schemedict1 = [item for item in scheme_dict]\n",
    "for idx, row in csv_hd.iterrows():\n",
    "    workload_fullname = row[0]\n",
    "    if any(workload in workload_fullname for workload in workload_list):\n",
    "        row_value = []\n",
    "        for col in row.keys():\n",
    "            if any(scheme in col for scheme in schemedict1):\n",
    "                row_value.append(row[col])\n",
    "        fig_data_stage_2darr.append(row_value)\n",
    "        name = workload_dict[workload_fullname]\n",
    "        if workload_fullname.endswith('_r'):\n",
    "            name = name[:3]\n",
    "        fig_xlabels.append(name)\n",
    "        xtick += 1\n",
    "        fig_stage_xticks.append(xtick)\n",
    "assert len(fig_data_stage_2darr) == len(fig_xlabels) == len(fig_stage_xticks)\n",
    "print(fig_data_stage_2darr)"
   ]
  },
  {
   "cell_type": "code",
   "execution_count": 45,
   "metadata": {},
   "outputs": [
    {
     "name": "stdout",
     "output_type": "stream",
     "text": [
      "[[2.17, 2.16, 2.68, 2.17, 2.74], [1.98, 1.98, 2.04, 1.98, 2.02], [1.35, 1.34, 1.47, 1.35, 1.43], [1.04, 1.0, 1.04, 1.04, 1.05], [2.0, 1.85, 2.15, 2.0, 2.48], [1.81, 1.58, 2.14, 1.81, 1.93]]\n"
     ]
    }
   ],
   "source": [
    "''' (CF) Load data from file. '''\n",
    "csv_path = './1_performance/compression_cf.csv'\n",
    "csv_hd = pd.read_csv(csv_path, sep=',')\n",
    "cf_xlabels = []\n",
    "cf_stage_xticks = []\n",
    "cf_data_2darr = []\n",
    "xtick = 1\n",
    "schemedict1 = [item for item in scheme_dict]\n",
    "for idx, row in csv_hd.iterrows():\n",
    "    workload_fullname = row[0]\n",
    "    if any(workload in workload_fullname for workload in workload_list):\n",
    "        row_value = []\n",
    "        for col in row.keys():\n",
    "            if any(scheme in col for scheme in schemedict1):\n",
    "                row_value.append(row[col])\n",
    "        cf_data_2darr.append(row_value)\n",
    "        name = workload_fullname\n",
    "        if workload_fullname.endswith('_r'):\n",
    "            name = name[:3]\n",
    "        cf_xlabels.append(name)\n",
    "        xtick += 1\n",
    "        cf_stage_xticks.append(xtick)\n",
    "assert len(cf_data_2darr) == len(cf_xlabels) == len(cf_stage_xticks)\n",
    "print(cf_data_2darr)"
   ]
  },
  {
   "cell_type": "code",
   "execution_count": 46,
   "metadata": {},
   "outputs": [
    {
     "name": "stdout",
     "output_type": "stream",
     "text": [
      "[2, 3, 4, 5, 6, 7]\n",
      "[1.7, 1.8499999999999999, 1.9999999999999998, 2.1499999999999995, 2.3]\n",
      "[2.7, 2.85, 3.0, 3.15, 3.3]\n",
      "[3.7, 3.85, 4.0, 4.15, 4.3]\n",
      "[4.7, 4.8500000000000005, 5.000000000000001, 5.150000000000001, 5.300000000000002]\n",
      "[5.7, 5.8500000000000005, 6.000000000000001, 6.150000000000001, 6.300000000000002]\n",
      "[6.7, 6.8500000000000005, 7.000000000000001, 7.150000000000001, 7.300000000000002]\n"
     ]
    },
    {
     "data": {
      "image/png": "[encoded data removed]",
      "text/plain": [
       "<Figure size 288x144 with 2 Axes>"
      ]
     },
     "metadata": {
      "needs_background": "light"
     },
     "output_type": "display_data"
    }
   ],
   "source": [
    "''' Ploting script '''\n",
    "pp, fig = easypyplot.pdf.plot_setup(fig_name, fig_dims)\n",
    "ax = fig.add_subplot(1, 1, 1)\n",
    "cf_ax = ax.twinx()\n",
    "easypyplot.format.turn_off_box(ax, twinx_axes=cf_ax)\n",
    "h = easypyplot.barchart.draw(\n",
    "    ax, fig_data_stage_2darr,\n",
    "    width=fig_bar_width,\n",
    "    breakdown=False,\n",
    "    group_names=fig_xlabels,\n",
    "    xticks=fig_stage_xticks,\n",
    "    # xticklabelfontsize=fig_label_fontsize,\n",
    "    xticklabelrotation=40, # Uncomment this for rotated x tick labels\n",
    "    prop=ft, # Uncomment if easypyplot supports font\n",
    "    colors=fig_bar_colors)\n",
    "\n",
    "cf_hdls = []\n",
    "scheme_num = len(scheme_dict)\n",
    "print(fig_stage_xticks)\n",
    "for group_id in range(len(workload_dict)):\n",
    "    gap = 1.0 * fig_bar_width / scheme_num\n",
    "    layout_xticks = list(np.arange(fig_stage_xticks[group_id] - gap * scheme_num / 2 + gap / 2, fig_stage_xticks[group_id] + gap * scheme_num / 2, gap))\n",
    "#     layout_xticks = [fig_stage_xticks[group_id] - gap, fig_stage_xticks[group_id], fig_stage_xticks[group_id] + gap]\n",
    "    print(layout_xticks)\n",
    "    cf_hdls += cf_ax.plot(layout_xticks, cf_data_2darr[group_id],\n",
    "                marker='*',\n",
    "                linewidth = '0.0',\n",
    "                color = '#000000',\n",
    "                markersize = '6.0',\n",
    "                # prop = ft\n",
    "                )\n",
    "\n",
    "''' x axis '''\n",
    "ax.xaxis.set_tick_params(pad=-3)\n",
    "fig_xticks_fix = [item for item in fig_stage_xticks]\n",
    "# fig_xticks_fix[0] -= 0.2\n",
    "ax.set_xticks(fig_xticks_fix)\n",
    "ax.set_xticklabels(fig_xlabels, fontsize=fig_label_fontsize, fontproperties=ft, ha='right')\n",
    "ax.xaxis.set_ticks_position('none') # Comment this and the next line for visible ticks\n",
    "# ax.tick_params(direction='in') # [in, out, inout]\n",
    "# ax.set_xlabel(fig_title)\n",
    "''' y axis '''\n",
    "ax.yaxis.grid(True)\n",
    "ax.set_ylim(fig_ylim)\n",
    "ax.set_yticks(fig_yticks)\n",
    "str_yticks = ['%.2f' % item for item in fig_yticks]\n",
    "ax.set_yticklabels(str_yticks, fontsize=fig_label_fontsize, fontproperties=ft)\n",
    "ax.set_ylabel(fig_title, multialignment='center', fontsize=fig_label_fontsize, fontproperties=ft)\n",
    "\n",
    "''' twin-axis '''\n",
    "cf_ylim = (0, 3.2)\n",
    "cf_ax.set_ylim(cf_ylim)\n",
    "cf_ax.set_ylabel('Compression Factor', fontsize=fig_label_fontsize, fontproperties=ft)\n",
    "\n",
    "''' legend '''\n",
    "legend = [scheme_dict[item] for item in scheme_dict]\n",
    "fig.legend(h, legend, loc='upper left', bbox_to_anchor=(0.95, 0.98), columnspacing=3.9, labelspacing=0.8,\n",
    "        ncol=1, frameon=False, prop=ft)\n",
    "fig.legend(cf_hdls, ['Compression Factor'], loc='upper left', bbox_to_anchor=(0.95, 0.35), columnspacing=3.9, labelspacing=0.8,\n",
    "        numpoints = 1,\n",
    "        ncol=1, frameon=False, prop=ft)\n",
    "# h_1 = [h[0], h[1], h[2]]\n",
    "# legend_1 = [legend[0], legend[1], legend[2]]\n",
    "# fig.legend(h_1, legend_1, loc='upper left', bbox_to_anchor=(0.05, 1.28), columnspacing=3.9,\n",
    "#         ncol=3, frameon=False, prop=ft)\n",
    "# h_2 = [h[3], h[4]]\n",
    "# legend_2 = [legend[3], legend[4]]\n",
    "# # fig.text(0.05, 0.97, 'Baryon +', fontsize=fig_label_fontsize, fontproperties=ft)\n",
    "# fig.legend(h_2, legend_2, loc='upper left', bbox_to_anchor=(0.05, 1.13),\n",
    "#         ncol=2, frameon=False, prop=ft)\n",
    "\n",
    "''' last resize '''\n",
    "plt.tight_layout()\n",
    "easypyplot.format.resize_ax_box(ax, hratio=0.9)"
   ]
  },
  {
   "cell_type": "code",
   "execution_count": 47,
   "metadata": {},
   "outputs": [],
   "source": [
    "''' Save figures'''\n",
    "fig.savefig(fig_name+'.pdf', format=\"pdf\", bbox_inches = 'tight')\n",
    "# easypyplot.pdf.plot_teardown(pp) # it generates wierd chopped figures"
   ]
  }
 ],
 "metadata": {
  "kernelspec": {
   "display_name": "Python 3.8.5 64-bit",
   "language": "python",
   "name": "python3"
  },
  "language_info": {
   "codemirror_mode": {
    "name": "ipython",
    "version": 3
   },
   "file_extension": ".py",
   "mimetype": "text/x-python",
   "name": "python",
   "nbconvert_exporter": "python",
   "pygments_lexer": "ipython3",
   "version": "3.8.5"
  },
  "vscode": {
   "interpreter": {
    "hash": "9500a60ae47ddf778c75ed8f5c5589feb8456bc26627d78889e135849e54d69d"
   }
  }
 },
 "nbformat": 4,
 "nbformat_minor": 2
}
