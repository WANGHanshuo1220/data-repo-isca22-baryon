{
    "cells": [
        {
            "cell_type": "code",
            "execution_count": 7,
            "metadata": {},
            "outputs": [],
            "source": [
                "''' Required packages. Use python3 -m pip install xxx for all the packages. '''\n",
                "from pprint import pprint\n",
                "import pandas as pd\n",
                "import numpy as np\n",
                "import matplotlib.font_manager as fm\n",
                "from matplotlib import pyplot as plt\n",
                "import easypyplot"
            ]
        },
        {
            "cell_type": "code",
            "execution_count": 8,
            "metadata": {},
            "outputs": [],
            "source": [
                "csv_path = './1_performance/bwutil.csv'\n",
                "workload_list = ['505', '519', '549', '557']\n",
                "scheme_list = ['SILC-FM', 'Baryon (Low Assoc)', 'Hybrid2', 'Baryon (High Assoc)']\n",
                "workload_dict = {item: item for item in workload_list}\n",
                "scheme_dict = {item: item for item in scheme_list}\n",
                "\n",
                "fig_title = 'Fast Memory &\\nSlow Memory Utilization'\n",
                "fig_name = 'graph_bwutil'\n",
                "fig_ylim = (0, 1)\n",
                "fig_yticks = list(np.arange(fig_ylim[0], fig_ylim[1]+0.01, 0.2))\n",
                "hitrate_ylim = (0, 1)\n",
                "hitrate_yticks = list(np.arange(hitrate_ylim[0], hitrate_ylim[1]+0.01, 0.2))\n",
                "hybrid2_color = '#fb9a99'\n",
                "fig_bar_colors = [easypyplot.color.COLOR_SET[i] for i in [5, 3]] + [hybrid2_color] + [easypyplot.color.COLOR_SET[0]]\n",
                "assert len(fig_bar_colors) == len(scheme_dict)\n",
                "\n",
                "# pprint(fig_yticks)"
            ]
        },
        {
            "cell_type": "code",
            "execution_count": 9,
            "metadata": {},
            "outputs": [],
            "source": [
                "''' Plot parameters. Change only if you want to resize the graph, etc. '''\n",
                "fig_bar_width = 0.7\n",
                "fig_dims = (5, 2)\n",
                "fig_label_fontsize = 9\n",
                "ft = fm.FontProperties('Times New Roman')\n",
                "ft.set_size(9.0)"
            ]
        },
        {
            "cell_type": "code",
            "execution_count": 10,
            "metadata": {},
            "outputs": [
                {
                    "name": "stdout",
                    "output_type": "stream",
                    "text": [
                        "[[0.33, 0.13, 0.14, 0.24],\n",
                        " [0.03, 0.41, 0.76, 0.94],\n",
                        " [0.02, 0.28, 0.57, 0.7],\n",
                        " [0.31, 0.15, 0.74, 0.92]]\n",
                        "[[0.56 0.11 0.1  0.56]\n",
                        " [0.62 0.78 0.82 0.4 ]\n",
                        " [0.68 0.89 0.78 0.86]\n",
                        " [0.79 0.9  0.92 0.89]]\n"
                    ]
                }
            ],
            "source": [
                "''' Load data from file. '''\n",
                "csv_hd = pd.read_csv(csv_path, sep=',')\n",
                "fig_xlabels = []\n",
                "fig_xticks = []\n",
                "fig_data_2darr = []\n",
                "xtick = -1\n",
                "for idx, row in csv_hd.iterrows():\n",
                "    workload_fullname = row[0]\n",
                "    if any(workload in workload_fullname for workload in workload_list):\n",
                "        row_value = []\n",
                "        for col in row.keys():\n",
                "            if any(scheme in col for scheme in scheme_dict):\n",
                "                row_value.append(row[col])\n",
                "        fig_data_2darr.append(row_value)\n",
                "        fig_xlabels.append(workload_fullname)\n",
                "        xtick += 1\n",
                "        fig_xticks.append(xtick)\n",
                "assert len(fig_data_2darr) == len(fig_xlabels) == len(fig_xticks)\n",
                "\n",
                "\n",
                "csv_path = './1_performance/hitrate.csv'\n",
                "csv_hd = pd.read_csv(csv_path, sep=',')\n",
                "hitrate_xlabels = []\n",
                "hitrate_xticks = []\n",
                "hitrate_data_2darr = []\n",
                "xtick = -1\n",
                "for idx, row in csv_hd.iterrows():\n",
                "    workload_fullname = row[0]\n",
                "    if any(workload in workload_fullname for workload in workload_list):\n",
                "        row_value = []\n",
                "        for col in row.keys():\n",
                "            if any(scheme in col for scheme in scheme_dict):\n",
                "                row_value.append(row[col])\n",
                "        hitrate_data_2darr.append(row_value)\n",
                "        hitrate_xlabels.append(workload_fullname)\n",
                "        xtick += 1\n",
                "        hitrate_xticks.append(xtick)\n",
                "hitrate_data_2darr = np.transpose(hitrate_data_2darr)\n",
                "assert len(hitrate_data_2darr) == len(hitrate_xlabels) == len(hitrate_xticks)\n",
                "\n",
                "pprint(fig_data_2darr)\n",
                "print(hitrate_data_2darr)"
            ]
        },
        {
            "cell_type": "code",
            "execution_count": 11,
            "metadata": {},
            "outputs": [
                {
                    "name": "stdout",
                    "output_type": "stream",
                    "text": [
                        "9.0\n"
                    ]
                },
                {
                    "data": {
                        "image/png": "[encoded data removed]",
                        "text/plain": [
                            "<Figure size 360x144 with 1 Axes>"
                        ]
                    },
                    "metadata": {
                        "needs_background": "light"
                    },
                    "output_type": "display_data"
                }
            ],
            "source": [
                "''' Ploting script '''\n",
                "pp, fig = easypyplot.pdf.plot_setup(fig_name, fig_dims)\n",
                "ax = fig.gca()\n",
                "easypyplot.format.turn_off_box(ax)\n",
                "\n",
                "h = easypyplot.barchart.draw(\n",
                "    ax, fig_data_2darr,\n",
                "    width=fig_bar_width,\n",
                "    breakdown=False,\n",
                "    group_names=fig_xlabels,\n",
                "    xticks=fig_xticks,\n",
                "    xticklabelfontsize=fig_label_fontsize,\n",
                "    xticklabelrotation=30,\n",
                "    prop=ft,\n",
                "    colors=fig_bar_colors)\n",
                "\n",
                "''' x axis '''\n",
                "ax.set_xlim([ax.get_xticks()[0] - 1, ax.get_xticks()[-1] + 1])\n",
                "ax.set_xticks(fig_xticks)\n",
                "ax.set_xticklabels(fig_xlabels, fontsize=fig_label_fontsize, fontproperties=ft)\n",
                "ax.xaxis.set_ticks_position('none') # Comment this and the next line for visible ticks\n",
                "# ax.tick_params(direction='in') # [in, out, inout]\n",
                "# ax.set_xlabel(fig_title)\n",
                "\n",
                "''' y axis '''\n",
                "ax.yaxis.grid(True)\n",
                "ax.set_ylim(fig_ylim)\n",
                "ax.set_yticks(fig_yticks)\n",
                "ax.set_ylabel('Memory Bandwidth\\nUtilization', multialignment='center', fontproperties=ft)\n",
                "\n",
                "''' values on top of each bar '''\n",
                "# for group_id in range(len(workload_dict)):\n",
                "#     for entry_id in range(len(scheme_dict)):\n",
                "#         bar_value = fig_data_2darr[group_id][entry_id]\n",
                "#         bar_x = ax.get_xticks()[group_id] + fig_bar_width / len(scheme_dict) * (entry_id - len(scheme_dict) / 2)\n",
                "#         bar_text = str('{:.2f}'.format(bar_value))\n",
                "#         ax.text(bar_x, bar_value + 0.1, bar_text, ha='left', va='top',\n",
                "#                 fontsize=fig_label_fontsize,\n",
                "#                 # rotation=90,\n",
                "#                 fontproperties=ft,\n",
                "#                 )\n",
                "\n",
                "''' legend '''\n",
                "legend = [scheme_dict[item] for item in scheme_dict]\n",
                "fig.legend(h, legend, loc='upper center', bbox_to_anchor=(0.5, 1.15),\n",
                "        ncol=len(legend) // 2, frameon=False, prop=ft)\n",
                "\n",
                "''' last resize '''\n",
                "plt.tight_layout()\n",
                "easypyplot.format.resize_ax_box(ax, hratio=0.8)"
            ]
        },
        {
            "cell_type": "code",
            "execution_count": 12,
            "metadata": {},
            "outputs": [],
            "source": [
                "''' Save figures'''\n",
                "fig.savefig(fig_name+'.pdf', format=\"pdf\", bbox_inches = 'tight')\n",
                "# easypyplot.pdf.plot_teardown(pp) # it generates wierd chopped figures"
            ]
        }
    ],
    "metadata": {
        "interpreter": {
            "hash": "31f2aee4e71d21fbe5cf8b01ff0e069b9275f58929596ceb00d14d90e3e16cd6"
        },
        "kernelspec": {
            "display_name": "Python 3.6.9 64-bit",
            "name": "python3"
        },
        "language_info": {
            "codemirror_mode": {
                "name": "ipython",
                "version": 3
            },
            "file_extension": ".py",
            "mimetype": "text/x-python",
            "name": "python",
            "nbconvert_exporter": "python",
            "pygments_lexer": "ipython3",
            "version": "3.6.9"
        },
        "orig_nbformat": 4
    },
    "nbformat": 4,
    "nbformat_minor": 2
}
