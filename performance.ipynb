{
    "cells": [
        {
            "cell_type": "code",
            "execution_count": 41,
            "metadata": {},
            "outputs": [],
            "source": [
                "''' Required packages. Use python3 -m pip install xxx for all the packages. '''\n",
                "from pprint import pprint\n",
                "import pandas as pd\n",
                "import numpy as np\n",
                "import matplotlib.font_manager as fm\n",
                "from matplotlib import pyplot as plt\n",
                "import easypyplot"
            ]
        },
        {
            "cell_type": "code",
            "execution_count": 42,
            "metadata": {},
            "outputs": [],
            "source": [
                "''' Plot parameters. Change only if you want to resize the graph, etc. '''\n",
                "fig_bar_width = 0.7\n",
                "fig_dims = (5, 2.5)\n",
                "fig_label_fontsize = 10\n",
                "ft = fm.FontProperties('Times New Roman')\n",
                "ft.set_size(10.0)"
            ]
        },
        {
            "cell_type": "code",
            "execution_count": 43,
            "metadata": {},
            "outputs": [
                {
                    "name": "stdout",
                    "output_type": "stream",
                    "text": [
                        "[[3.3863, 3.7562, 4.257, 3.8869],\n",
                        " [3.1111, 3.5098, 3.6236, 4.4633],\n",
                        " [2.4659, 3.2452, 3.5832, 3.801],\n",
                        " [3.7767, 4.2486, 4.4334, 3.922],\n",
                        " [1.2692, 1.0154, 1.1379, 1.2222],\n",
                        " [1.5361, 2.2922, 3.465, 3.4383],\n",
                        " [3.6874, 2.9999, 4.2479, 3.8199],\n",
                        " [3.6214, 3.9799, 5.2203, 6.93],\n",
                        " [4.0294, 4.3374, 6.2473, 6.8096],\n",
                        " [2.2999, 4.1564, 4.1565, 3.4847],\n",
                        " [3.1551, 3.303, 4.7281, 4.4078],\n",
                        " [2.8284, 2.8635, 4.8241, 4.4178],\n",
                        " [3.0304, 3.3213, 4.2947, 3.9824],\n",
                        " [3.3798, 3.1351, 4.1454, 4.2337],\n",
                        " [1.5101, 1.5345, 1.6056, 1.7016],\n",
                        " [1.5108, 1.5081, 1.6605, 1.784],\n",
                        " [1.4789, 1.939, 3.7393, 3.9516],\n",
                        " [2.5336, 3.8047, 3.3716, 4.0877],\n",
                        " [2.5335, 2.8492, 3.4615, 3.6127]]\n",
                        "['#b3e2cd', '#f1e2cc', (0.875, 0.9181034482758621, 1.0, 1.0), '#cbd5e8']\n"
                    ]
                }
            ],
            "source": [
                "\n",
                "new_color = [\n",
                "'#b3e2cd',\n",
                "'#fdcdac',\n",
                "'#cbd5e8',\n",
                "'#f4cae4',\n",
                "'#e6f5c9',\n",
                "'#fff2ae',\n",
                "'#f1e2cc',\n",
                "'#cccccc',\n",
                "]\n",
                "\n",
                "\n",
                "''' Stage Size: Load data from file. '''\n",
                "csv_path = './1_performance/lowassoc.csv'\n",
                "workload_list = ['502', '503', '505', '507', '519', '520', '527', '549', '554', '557', 'twi', 'web', 'resnet50', 'resnext50', 'YCSB-A', 'YCSB-B', 'Geomean']\n",
                "scheme_list = ['Unison Cache', 'DICE', 'Baryon-64B', 'Baryon']\n",
                "workload_dict = {item: item for item in workload_list}\n",
                "scheme_dict = {item: item for item in scheme_list}\n",
                "\n",
                "stagesize_title = 'Normalized Performance'\n",
                "fig_name = 'graph_perf_lowassoc'\n",
                "stagesize_ylim = (0, 2.0)\n",
                "stagesize_yticks = list(np.arange(stagesize_ylim[0], stagesize_ylim[1]+0.01, 0.5))\n",
                "\n",
                "\n",
                "unisoncache_color = new_color[0]\n",
                "base_color = new_color[1]\n",
                "baryon_color = new_color[2]\n",
                "dice_color = new_color[6]\n",
                "hybrid2_color = new_color[3]\n",
                "baryon_64B_color = easypyplot.color.color_scale(baryon_color, 2, low=0.7, high=1.0)[-1]\n",
                "baryon_high_color = easypyplot.color.COLOR_SET[0]\n",
                "low_bar_colors = [unisoncache_color, dice_color, baryon_64B_color, baryon_color]\n",
                "assert len(low_bar_colors) == len(scheme_dict)\n",
                "\n",
                "# pprint(stagesize_yticks)\n",
                "csv_hd = pd.read_csv(csv_path, sep=',')\n",
                "stagesize_xlabels = []\n",
                "stagesize_xticks = []\n",
                "stagesize_data_2darr = []\n",
                "xtick = -1\n",
                "for idx, row in csv_hd.iterrows():\n",
                "    workload_fullname = row[0]\n",
                "    if any(workload in workload_fullname for workload in workload_list):\n",
                "        row_value = []\n",
                "        for col in row.keys():\n",
                "            if any(scheme in col for scheme in scheme_dict):\n",
                "                row_value.append(row[col])\n",
                "        stagesize_data_2darr.append(row_value)\n",
                "        workload_shortname = workload_fullname\n",
                "        if workload_fullname.endswith('_r'):\n",
                "            workload_shortname = workload_fullname[0:3]\n",
                "        stagesize_xlabels.append(workload_shortname)\n",
                "        xtick += 1\n",
                "        stagesize_xticks.append(xtick)\n",
                "assert len(stagesize_data_2darr) == len(stagesize_xlabels) == len(stagesize_xticks)\n",
                "\n",
                "pprint(stagesize_data_2darr)\n",
                "\n",
                "pprint(low_bar_colors)"
            ]
        },
        {
            "cell_type": "code",
            "execution_count": 44,
            "metadata": {},
            "outputs": [
                {
                    "data": {
                        "image/png": "[encoded data removed]",
                        "text/plain": [
                            "<Figure size 360x180 with 1 Axes>"
                        ]
                    },
                    "metadata": {
                        "needs_background": "light"
                    },
                    "output_type": "display_data"
                }
            ],
            "source": [
                "''' Ploting script '''\n",
                "pp, fig = easypyplot.pdf.plot_setup(fig_name, fig_dims)\n",
                "stagesize_ax = fig.add_subplot(1, 1, 1)\n",
                "# stagesize_ax2 = stagesize_ax.twinx()\n",
                "# easypyplot.format.turn_off_box(stagesize_ax, twinx_axes=stagesize_ax2)\n",
                "easypyplot.format.turn_off_box(stagesize_ax)\n",
                "stagesize_h = easypyplot.barchart.draw(\n",
                "    stagesize_ax, stagesize_data_2darr,\n",
                "    width=fig_bar_width,\n",
                "    breakdown=False,\n",
                "    group_names=stagesize_xlabels,\n",
                "    xticks=stagesize_xticks,\n",
                "    xticklabelfontsize=fig_label_fontsize,\n",
                "    xticklabelrotation=90,\n",
                "    colors=low_bar_colors)\n",
                "''' x axis '''\n",
                "stagesize_ax.set_xlim([stagesize_ax.get_xticks()[0] - 1, stagesize_ax.get_xticks()[-1] + 1])\n",
                "stagesize_ax.set_xticks(stagesize_xticks)\n",
                "stagesize_ax.set_xticklabels(stagesize_xlabels, fontsize=fig_label_fontsize, fontproperties=ft)\n",
                "stagesize_ax.xaxis.set_ticks_position('none') # Comment this and the next line for visible ticks\n",
                "# stagesize_ax.tick_params(direction='in') # [in, out, inout]\n",
                "stagesize_ax.set_xlabel('', fontproperties=ft)\n",
                "''' y axis '''\n",
                "stagesize_ax.yaxis.grid(True)\n",
                "stagesize_ax.set_ylim([0, 5])\n",
                "stagesize_ax.set_yticks([0, 1, 2, 3, 4, 5])\n",
                "stagesize_ax.set_ylabel(stagesize_title, multialignment='center', fontproperties=ft)\n",
                "# stagesize_ax2.set_ylim([0., 1.])\n",
                "# stagesize_ax2.set_ylabel('Committed Block Hit Rate', multialignment='center', fontproperties=ft)\n",
                "''' legend '''\n",
                "# h, l = stagesize_ax.get_legend_handles_labels()\n",
                "# stagesize_ax.legend(handles=[item for item in h[:-1]], labels= [item for item in l[:-1]])\n",
                "arrowprop = dict(arrowstyle='<-', color='k', connectionstyle=\"angle,angleA=0,angleB=90,rad=1\")\n",
                "stagesize_ax.annotate('5.22', xy=(7 + fig_bar_width / 4  - 0.05, 4.9), xytext=(5.3, 5.2), xycoords='data',\n",
                "                        fontproperties=ft, arrowprops=arrowprop)\n",
                "stagesize_ax.annotate('5.93', xy=(7 + fig_bar_width / 4  + 0.1, 4.9), xytext=(5.3, 5.8), xycoords='data',\n",
                "                        fontproperties=ft, arrowprops=arrowprop)\n",
                "stagesize_ax.annotate('5.43', xy=(8 + fig_bar_width / 4  - 0.05, 4.9), xytext=(9, 5.2), xycoords='data',\n",
                "                        fontproperties=ft, arrowprops=arrowprop)\n",
                "stagesize_ax.annotate('6.03', xy=(8 + fig_bar_width / 4  + 0.1, 4.9), xytext=(9, 5.8), xycoords='data',\n",
                "                        fontproperties=ft, arrowprops=arrowprop)\n",
                "# stagesize_ax.text(6 + fig_bar_width - 2.7, 5.1, 'Baryon-64B: 5.22\\nBaryon:5.93', color='#000000', fontproperties=ft)\n",
                "# stagesize_ax.text(8 + fig_bar_width - 0.3, 5.1, 'Baryon-64B: 5.43\\nBaryon:6.03', color='#000000', fontproperties=ft)\n",
                "\n",
                "legend = [scheme_dict[item] for item in scheme_dict]\n",
                "fig.legend(stagesize_h, legend, loc='upper left', bbox_to_anchor=(0.1, 1.02),\n",
                "        ncol=4, frameon=False, prop=ft, columnspacing=1, labelspacing=0.1)\n",
                "\n",
                "''' last resize '''\n",
                "plt.tight_layout()\n",
                "easypyplot.format.resize_ax_box(stagesize_ax, hratio=0.8)"
            ]
        },
        {
            "cell_type": "code",
            "execution_count": 45,
            "metadata": {},
            "outputs": [],
            "source": [
                "''' Save figures'''\n",
                "fig.savefig('./graph_perf_lowassoc.pdf', format=\"pdf\", bbox_inches = 'tight')\n",
                "# easypyplot.pdf.plot_teardown(pp) # it generates wierd chopped figures"
            ]
        },
        {
            "cell_type": "markdown",
            "metadata": {},
            "source": [
                "## High-assoc"
            ]
        },
        {
            "cell_type": "code",
            "execution_count": 46,
            "metadata": {},
            "outputs": [
                {
                    "name": "stdout",
                    "output_type": "stream",
                    "text": [
                        "[[1, 1.3617],\n",
                        " [1, 1.175],\n",
                        " [1, 1.1302],\n",
                        " [1, 1.0414],\n",
                        " [1, 0.8539],\n",
                        " [1, 1.3283],\n",
                        " [1, 0.99],\n",
                        " [1, 2.0216],\n",
                        " [1, 1.253],\n",
                        " [1, 1.0],\n",
                        " [1, 0.9891],\n",
                        " [1, 1.3272],\n",
                        " [1, 0.977],\n",
                        " [1, 1.0415],\n",
                        " [1, 1.216],\n",
                        " [1, 1.211],\n",
                        " [1, 1.2572],\n",
                        " [1, 1.308],\n",
                        " [1, 1.137]]\n",
                        "['#f4cae4', (0.7892156862745098, 0.8280933062880325, 0.9019607843137255, 1.0)]\n"
                    ]
                }
            ],
            "source": [
                "\n",
                "''' Stage Size: Load data from file. '''\n",
                "csv_path = './1_performance/highassoc.csv'\n",
                "workload_list = ['502', '503', '505', '507', '519', '520', '527', '549', '554', '557', 'twi', 'web', 'resnet50', 'resnext50', 'YCSB-A', 'YCSB-B', 'Geomean']\n",
                "scheme_list = ['Hybrid2', 'Baryon-FA']\n",
                "workload_dict = {item: item for item in workload_list}\n",
                "scheme_dict = {item: item for item in scheme_list}\n",
                "\n",
                "stagesize_title = 'Normalized Performance'\n",
                "fig_name = 'graph_perf_highassoc'\n",
                "stagesize_ylim = (0, 1.6)\n",
                "stagesize_yticks = list(np.arange(stagesize_ylim[0], stagesize_ylim[1]+0.01, 0.5))\n",
                "\n",
                "baryon_high_color = easypyplot.color.color_scale(baryon_color, 2, low=0.8, high=0.9) [1]\n",
                "stagesize_bar_colors = [hybrid2_color, baryon_high_color]\n",
                "assert len(stagesize_bar_colors) == len(scheme_dict)\n",
                "\n",
                "# pprint(stagesize_yticks)\n",
                "csv_hd = pd.read_csv(csv_path, sep=',')\n",
                "stagesize_xlabels = []\n",
                "stagesize_xticks = []\n",
                "stagesize_data_2darr = []\n",
                "xtick = -1\n",
                "for idx, row in csv_hd.iterrows():\n",
                "    workload_fullname = row[0]\n",
                "    if any(workload in workload_fullname for workload in workload_list):\n",
                "        row_value = []\n",
                "        for col in row.keys():\n",
                "            if any(scheme in col for scheme in scheme_dict):\n",
                "                row_value.append(row[col])\n",
                "        stagesize_data_2darr.append(row_value)\n",
                "        workload_shortname = workload_fullname\n",
                "        if workload_fullname.endswith('_r'):\n",
                "            workload_shortname = workload_fullname[0:3]\n",
                "        stagesize_xlabels.append(workload_shortname)\n",
                "        xtick += 1\n",
                "        stagesize_xticks.append(xtick)\n",
                "assert len(stagesize_data_2darr) == len(stagesize_xlabels) == len(stagesize_xticks)\n",
                "\n",
                "pprint(stagesize_data_2darr)\n",
                "\n",
                "pprint(stagesize_bar_colors)"
            ]
        },
        {
            "cell_type": "code",
            "execution_count": 47,
            "metadata": {},
            "outputs": [
                {
                    "data": {
                        "image/png": "[encoded data removed]",
                        "text/plain": [
                            "<Figure size 360x144 with 1 Axes>"
                        ]
                    },
                    "metadata": {
                        "needs_background": "light"
                    },
                    "output_type": "display_data"
                }
            ],
            "source": [
                "''' Ploting script '''\n",
                "fig_dims = (5, 2)\n",
                "pp, fig = easypyplot.pdf.plot_setup(fig_name, fig_dims)\n",
                "stagesize_ax = fig.add_subplot(1, 1, 1)\n",
                "# stagesize_ax2 = stagesize_ax.twinx()\n",
                "# easypyplot.format.turn_off_box(stagesize_ax, twinx_axes=stagesize_ax2)\n",
                "easypyplot.format.turn_off_box(stagesize_ax)\n",
                "stagesize_h = easypyplot.barchart.draw(\n",
                "    stagesize_ax, stagesize_data_2darr,\n",
                "    width=fig_bar_width,\n",
                "    breakdown=False,\n",
                "    group_names=stagesize_xlabels,\n",
                "    xticks=stagesize_xticks,\n",
                "    xticklabelfontsize=fig_label_fontsize,\n",
                "    xticklabelrotation=90,\n",
                "    colors=stagesize_bar_colors)\n",
                "''' x axis '''\n",
                "stagesize_ax.set_xlim([stagesize_ax.get_xticks()[0] - 1, stagesize_ax.get_xticks()[-1] + 1])\n",
                "stagesize_ax.set_xticks(stagesize_xticks)\n",
                "stagesize_ax.set_xticklabels(stagesize_xlabels, fontsize=fig_label_fontsize, fontproperties=ft)\n",
                "stagesize_ax.xaxis.set_ticks_position('none') # Comment this and the next line for visible ticks\n",
                "# stagesize_ax.tick_params(direction='in') # [in, out, inout]\n",
                "stagesize_ax.set_xlabel('', fontproperties=ft)\n",
                "''' y axis '''\n",
                "stagesize_ax.yaxis.grid(True)\n",
                "stagesize_ax.set_ylim((0, 1.5))\n",
                "stagesize_ax.set_yticks(stagesize_yticks)\n",
                "stagesize_ax.set_ylabel(stagesize_title, multialignment='center', fontproperties=ft)\n",
                "# stagesize_ax2.set_ylim([0., 1.])\n",
                "# stagesize_ax2.set_ylabel('Committed Block Hit Rate', multialignment='center', fontproperties=ft)\n",
                "''' legend '''\n",
                "# h, l = stagesize_ax.get_legend_handles_labels()\n",
                "# stagesize_ax.legend(handles=[item for item in h[:-1]], labels= [item for item in l[:-1]])\n",
                "\n",
                "stagesize_ax.text(7 + fig_bar_width - 0.3, 1.5, '2.05', color='#000000', fontproperties=ft)\n",
                "# stagesize_ax.text(14 + fig_bar_width - 0.3, 1.5, '1.62', color='#000000', fontproperties=ft)\n",
                "\n",
                "legend = [scheme_dict[item] for item in scheme_dict]\n",
                "fig.legend(stagesize_h, legend, loc='upper left', bbox_to_anchor=(0.3, 1.05),\n",
                "        ncol=3, frameon=False, prop=ft, columnspacing=1, labelspacing=0.1)\n",
                "\n",
                "''' last resize '''\n",
                "plt.tight_layout()\n",
                "easypyplot.format.resize_ax_box(stagesize_ax, hratio=0.9)"
            ]
        },
        {
            "cell_type": "code",
            "execution_count": 48,
            "metadata": {},
            "outputs": [],
            "source": [
                "''' Save figures'''\n",
                "fig.savefig('./graph_perf_highassoc.pdf', format=\"pdf\", bbox_inches = 'tight')\n",
                "# easypyplot.pdf.plot_teardown(pp) # it generates wierd chopped figures"
            ]
        }
    ],
    "metadata": {
        "kernelspec": {
            "display_name": "Python 3.8.5 64-bit",
            "language": "python",
            "name": "python3"
        },
        "language_info": {
            "codemirror_mode": {
                "name": "ipython",
                "version": 3
            },
            "file_extension": ".py",
            "mimetype": "text/x-python",
            "name": "python",
            "nbconvert_exporter": "python",
            "pygments_lexer": "ipython3",
            "version": "3.8.5"
        },
        "orig_nbformat": 4,
        "vscode": {
            "interpreter": {
                "hash": "9500a60ae47ddf778c75ed8f5c5589feb8456bc26627d78889e135849e54d69d"
            }
        }
    },
    "nbformat": 4,
    "nbformat_minor": 2
}
