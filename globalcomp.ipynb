{
    "cells": [
        {
            "cell_type": "code",
            "execution_count": 311,
            "metadata": {},
            "outputs": [],
            "source": [
                "''' Required packages. Use python3 -m pip install xxx for all the packages. '''\n",
                "from pprint import pprint\n",
                "import pandas as pd\n",
                "import numpy as np\n",
                "import matplotlib.font_manager as fm\n",
                "from matplotlib import pyplot as plt\n",
                "import easypyplot"
            ]
        },
        {
            "cell_type": "code",
            "execution_count": 312,
            "metadata": {},
            "outputs": [],
            "source": [
                "csv_path = './3_sensitivity/globalcomp.csv'\n",
                "workload_list = ['mix1', 'mix2', 'mix3', 'mix4']\n",
                "scheme_list = ['256B Performance', '64B Performance']\n",
                "workload_dict = {item: item for item in workload_list}\n",
                "scheme_dict = {\n",
                "    '256B Performance': '256 B',\n",
                "    '64B Performance': '64 B (Baryon)',\n",
                "    }\n",
                "\n",
                "fig_title = 'Normalized Performance'\n",
                "fig_name = 'graph_globalcomp'\n",
                "fig_ylim = (0, 1.1)\n",
                "fig_yticks = list(np.arange(fig_ylim[0], fig_ylim[1]+0.01, 0.25))\n",
                "fig_bar_colors = [easypyplot.color.COLOR_SET[i] for i in [4, 0]]\n",
                "assert len(fig_bar_colors) == len(scheme_dict)\n",
                "\n",
                "# pprint(fig_yticks)"
            ]
        },
        {
            "cell_type": "code",
            "execution_count": 313,
            "metadata": {},
            "outputs": [],
            "source": [
                "''' Plot parameters. Change only if you want to resize the graph, etc. '''\n",
                "fig_bar_width = 0.7\n",
                "fig_dims = (5, 2)\n",
                "fig_label_fontsize = 10\n",
                "ft = fm.FontProperties('Times New Roman')\n",
                "ft.set_size(10.0)"
            ]
        },
        {
            "cell_type": "code",
            "execution_count": 314,
            "metadata": {},
            "outputs": [
                {
                    "name": "stdout",
                    "output_type": "stream",
                    "text": [
                        "[[0.990066225, 1.0],\n",
                        " [0.9270833337000001, 1.0],\n",
                        " [1.0518987340000001, 1.0],\n",
                        " [0.974654378, 1.0]]\n"
                    ]
                }
            ],
            "source": [
                "''' Load data from file. '''\n",
                "csv_hd = pd.read_csv(csv_path, sep=',')\n",
                "fig_xlabels = []\n",
                "fig_xticks = []\n",
                "fig_data_2darr = []\n",
                "xtick = -1\n",
                "for idx, row in csv_hd.iterrows():\n",
                "    workload_fullname = row[0]\n",
                "    if any(workload in workload_fullname for workload in workload_list):\n",
                "        row_value = []\n",
                "        for col in row.keys():\n",
                "            if any(scheme in col for scheme in scheme_dict):\n",
                "                row_value.append(row[col])\n",
                "        fig_data_2darr.append(row_value)\n",
                "        fig_xlabels.append(workload_fullname)\n",
                "        xtick += 1\n",
                "        fig_xticks.append(xtick)\n",
                "assert len(fig_data_2darr) == len(fig_xlabels) == len(fig_xticks)\n",
                "\n",
                "pprint(fig_data_2darr)"
            ]
        },
        {
            "cell_type": "code",
            "execution_count": 315,
            "metadata": {},
            "outputs": [
                {
                    "name": "stdout",
                    "output_type": "stream",
                    "text": [
                        "[[1.48, 1.46], [1.31, 1.27], [1.59, 1.41], [1.29, 1.28]]\n"
                    ]
                }
            ],
            "source": [
                "''' CF hit rate '''\n",
                "CF_scheme_list = ['256B CF', '64B CF', '128MB CF']\n",
                "CF_scheme_dict = {\n",
                "    '256B CF': '256 B',\n",
                "    '64B CF': '64 B',\n",
                "}\n",
                "csv_hd = pd.read_csv(csv_path, sep=',')\n",
                "CF_xlabels = []\n",
                "CF_xticks = []\n",
                "CF_data_2darr = []\n",
                "xtick = -1\n",
                "for idx, row in csv_hd.iterrows():\n",
                "    workload_fullname = row[0]\n",
                "    if any(workload in workload_fullname for workload in workload_list):\n",
                "        row_value = []\n",
                "        for col in row.keys():\n",
                "            if any(scheme in col for scheme in CF_scheme_dict):\n",
                "                row_value.append(row[col])\n",
                "        CF_data_2darr.append(row_value)\n",
                "        CF_xlabels.append(workload_fullname)\n",
                "        xtick += 1\n",
                "        CF_xticks.append(xtick)\n",
                "assert len(CF_data_2darr) == len(CF_xlabels) == len(CF_xticks)\n",
                "\n",
                "pprint(CF_data_2darr)"
            ]
        },
        {
            "cell_type": "code",
            "execution_count": 316,
            "metadata": {},
            "outputs": [
                {
                    "name": "stdout",
                    "output_type": "stream",
                    "text": [
                        "array([[1.45, 1.16, 1.41, 1.1 ],\n",
                        "       [1.43, 1.26, 1.22, 1.25]])\n"
                    ]
                }
            ],
            "source": [
                "''' algo hit rate '''\n",
                "algo_scheme_list = ['FPC CF', 'BDI CF']\n",
                "algo_scheme_dict = {\n",
                "    'FPC CF': 'FPC',\n",
                "    'BDI CF': 'BDI',\n",
                "}\n",
                "csv_hd = pd.read_csv(csv_path, sep=',')\n",
                "algo_xlabels = []\n",
                "algo_xticks = []\n",
                "algo_data_2darr = []\n",
                "xtick = -1\n",
                "for idx, row in csv_hd.iterrows():\n",
                "    workload_fullname = row[0]\n",
                "    if any(workload in workload_fullname for workload in workload_list):\n",
                "        row_value = []\n",
                "        for col in row.keys():\n",
                "            if any(scheme in col for scheme in algo_scheme_dict):\n",
                "                row_value.append(row[col])\n",
                "        algo_data_2darr.append(row_value)\n",
                "        algo_xlabels.append(workload_fullname)\n",
                "        xtick += 1\n",
                "        algo_xticks.append(xtick)\n",
                "# assert len(algo_data_2darr) == len(algo_xlabels) == len(algo_xticks)\n",
                "algo_data_2darr = np.transpose(algo_data_2darr)\n",
                "pprint(algo_data_2darr)"
            ]
        },
        {
            "cell_type": "code",
            "execution_count": 317,
            "metadata": {},
            "outputs": [
                {
                    "name": "stdout",
                    "output_type": "stream",
                    "text": [
                        "10.0\n",
                        "[-0.21666666666666667, 0.21666666666666667]\n",
                        "[0.7833333333333333, 1.2166666666666668]\n",
                        "[1.7833333333333332, 2.216666666666667]\n",
                        "[2.783333333333333, 3.216666666666667]\n"
                    ]
                },
                {
                    "data": {
                        "image/png": "[encoded data removed]",
                        "text/plain": [
                            "<Figure size 360x144 with 2 Axes>"
                        ]
                    },
                    "metadata": {
                        "needs_background": "light"
                    },
                    "output_type": "display_data"
                }
            ],
            "source": [
                "''' Ploting script '''\n",
                "pp, fig = easypyplot.pdf.plot_setup(fig_name, fig_dims)\n",
                "ax = fig.gca()\n",
                "ax2 = ax.twinx()\n",
                "easypyplot.format.turn_off_box(ax, twinx_axes=ax2)\n",
                "\n",
                "h = easypyplot.barchart.draw(\n",
                "    ax, fig_data_2darr,\n",
                "    width=fig_bar_width,\n",
                "    breakdown=False,\n",
                "    group_names=fig_xlabels,\n",
                "    xticks=fig_xticks,\n",
                "    xticklabelfontsize=fig_label_fontsize,\n",
                "    xticklabelrotation=0,\n",
                "    prop=ft,\n",
                "    colors=fig_bar_colors)\n",
                "\n",
                "h2 = []\n",
                "# easypyplot.format.turn_off_box(ax2)\n",
                "for group_id in range(len(workload_dict)):\n",
                "    # CF_xticks = list(np.arange(fig_xticks[group_id] - 1/3))\n",
                "    gap = 1./3 - 1.0 * fig_bar_width / 6\n",
                "    CF_xticks = [fig_xticks[group_id] - gap, fig_xticks[group_id] + gap]\n",
                "    print(CF_xticks)\n",
                "    h2 += ax2.plot(CF_xticks, CF_data_2darr[group_id],\n",
                "                marker='*',\n",
                "                linewidth = '1.0',\n",
                "                color = '#000000',\n",
                "                markersize = '6.0',\n",
                "                # prop = ft\n",
                "                )\n",
                "\n",
                "h3 = []\n",
                "# easypyplot.format.turn_off_box(ax2)\n",
                "algo_color_set = [easypyplot.color.COLOR_SET[i] for i in [2, 5]]\n",
                "for group_id in range(2):\n",
                "    # CF_xticks = list(np.arange(fig_xticks[group_id] - 1/3))\n",
                "    gap = 1./3 - 1.0 * fig_bar_width / 6\n",
                "    # new_algo_xticks = [item + gap for item in algo_xticks]\n",
                "    h3 += ax2.plot(algo_xticks, algo_data_2darr[group_id],\n",
                "                marker='v',\n",
                "                linewidth = '1.0',\n",
                "                color=algo_color_set[group_id],\n",
                "                markersize = '6.0',\n",
                "                # prop=ft, # Uncomment if easypyplot supports font\n",
                "                )\n",
                "\n",
                "''' x axis '''\n",
                "ax.set_xlim([ax.get_xticks()[0] - 1, ax.get_xticks()[-1] + 1])\n",
                "ax.set_xticks(fig_xticks)\n",
                "ax.set_xticklabels(fig_xlabels, fontsize=fig_label_fontsize, fontproperties=ft)\n",
                "ax.xaxis.set_ticks_position('none') # Comment this and the next line for visible ticks\n",
                "# ax.tick_params(direction='in') # [in, out, inout]\n",
                "# ax.set_xlabel(fig_title)\n",
                "\n",
                "''' y axis '''\n",
                "ax.yaxis.grid(True)\n",
                "ax.set_ylim(fig_ylim)\n",
                "ax.set_yticks(fig_yticks)\n",
                "ax.set_ylabel(fig_title, multialignment='center', fontproperties=ft)\n",
                "\n",
                "cf_ylim = [1., 2.1]\n",
                "ax2.set_ylim(cf_ylim)\n",
                "cf_yticks = list(np.arange(cf_ylim[0], cf_ylim[1]+0.01, 0.25))\n",
                "ax2.set_yticks(cf_yticks)\n",
                "ax2.set_ylabel('Compression Factor', multialignment='center', fontproperties=ft)\n",
                "\n",
                "''' values on top of each bar '''\n",
                "# for group_id in range(len(workload_dict)):\n",
                "#     for entry_id in range(len(scheme_dict)):\n",
                "#         bar_value = fig_data_2darr[group_id][entry_id]\n",
                "#         bar_x = ax.get_xticks()[group_id] + fig_bar_width / len(scheme_dict) * (entry_id - len(scheme_dict) / 2)\n",
                "#         bar_text = str('{:.2f}'.format(bar_value))\n",
                "#         ax.text(bar_x, bar_value + 0.1, bar_text, ha='left', va='top',\n",
                "#                 fontsize=fig_label_fontsize,\n",
                "#                 # rotation=90,\n",
                "#                 fontproperties=ft,\n",
                "#                 )\n",
                "\n",
                "''' legend '''\n",
                "legend = [scheme_dict[item] for item in scheme_dict]\n",
                "fig.legend(h, legend, loc='upper center', bbox_to_anchor=(0.35, 1.1),\n",
                "        ncol=3, frameon=False, prop=ft)\n",
                "\n",
                "legend = ['Compression Unit']\n",
                "fig.legend(h2, legend, loc='upper right', bbox_to_anchor=(0.9, 1.06),\n",
                "        ncol=1, frameon=False, numpoints=1, prop=ft)\n",
                "\n",
                "legend = ['FPC', 'BDI']\n",
                "fig.legend(h3, legend, loc='center right', bbox_to_anchor=(0.9, 1.05),\n",
                "        ncol=2, frameon=False,\n",
                "        columnspacing=1,\n",
                "        numpoints=1,\n",
                "        prop=ft,\n",
                "        )\n",
                "\n",
                "''' last resize '''\n",
                "plt.tight_layout()\n",
                "easypyplot.format.resize_ax_box(ax, hratio=0.8)"
            ]
        },
        {
            "cell_type": "code",
            "execution_count": 318,
            "metadata": {},
            "outputs": [],
            "source": [
                "''' Save figures'''\n",
                "fig.savefig(fig_name+'.pdf', format=\"pdf\", bbox_inches = 'tight')\n",
                "# easypyplot.pdf.plot_teardown(pp) # it generates wierd chopped figures"
            ]
        }
    ],
    "metadata": {
        "interpreter": {
            "hash": "31f2aee4e71d21fbe5cf8b01ff0e069b9275f58929596ceb00d14d90e3e16cd6"
        },
        "kernelspec": {
            "display_name": "Python 3.6.9 64-bit",
            "name": "python3"
        },
        "language_info": {
            "codemirror_mode": {
                "name": "ipython",
                "version": 3
            },
            "file_extension": ".py",
            "mimetype": "text/x-python",
            "name": "python",
            "nbconvert_exporter": "python",
            "pygments_lexer": "ipython3",
            "version": "3.6.9"
        },
        "orig_nbformat": 4
    },
    "nbformat": 4,
    "nbformat_minor": 2
}
