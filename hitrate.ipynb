{
    "cells": [
        {
            "cell_type": "code",
            "execution_count": 1,
            "metadata": {},
            "outputs": [],
            "source": [
                "''' Required packages. Use python3 -m pip install xxx for all the packages. '''\n",
                "from pprint import pprint\n",
                "import pandas as pd\n",
                "import numpy as np\n",
                "import matplotlib.font_manager as fm\n",
                "from matplotlib import pyplot as plt\n",
                "import easypyplot"
            ]
        },
        {
            "cell_type": "code",
            "execution_count": 2,
            "metadata": {},
            "outputs": [],
            "source": [
                "csv_path = './1_performance/hitrate.csv'\n",
                "workload_list = ['505', '520', 'pr.twitter', 'resnet50', 'ycsb.a', 'geomean']\n",
                "scheme_list = ['UnisonCache', 'DICE', 'Baryon-64B', 'Baryon']\n",
                "workload_dict = {item: item for item in workload_list}\n",
                "workload_dict['pr.twitter'] = 'pr.twi'\n",
                "workload_dict['resnet50'] = 'resnet50'\n",
                "workload_dict['ycsb.a'] = 'YCSB-A'\n",
                "workload_dict['geomean'] = 'Geomean'\n",
                "scheme_dict = {item: item for item in scheme_list}\n",
                "scheme_dict['UnisonCache'] = 'Unison Cache'\n",
                "\n",
                "fig_title = 'Fast Memory &\\nSlow Memory Utilization'\n",
                "fig_name = 'graph_hitrate_bwutil'\n",
                "fig_ylim = (0, 1)\n",
                "fig_yticks = list(np.arange(fig_ylim[0], fig_ylim[1]+0.01, 0.2))\n",
                "hitrate_ylim = (0, 1)\n",
                "hitrate_yticks = list(np.arange(hitrate_ylim[0], hitrate_ylim[1]+0.01, 0.2))\n",
                "# fig_bar_colors = [easypyplot.color.COLOR_SET[i] for i in [5, 3]] + [hybrid2_color] + [easypyplot.color.COLOR_SET[0]]\n",
                "\n",
                "# pprint(fig_yticks)"
            ]
        },
        {
            "cell_type": "code",
            "execution_count": 3,
            "metadata": {},
            "outputs": [],
            "source": [
                "bw_csv_path = './1_performance/slowtraffic.csv'\n",
                "bw_scheme_dict = {\n",
                "    item: item for item in scheme_list\n",
                "}\n",
                "\n",
                "bw_title = 'Normalized Speedup'\n",
                "bw_ylim = (0, 4)\n",
                "bw_yticks = list(np.arange(bw_ylim[0], bw_ylim[1]+0.01, 1))\n",
                "hybrid2_color = '#fb9a99'\n",
                "\n",
                "new_color = [\n",
                "'#b3e2cd',\n",
                "'#fdcdac',\n",
                "'#cbd5e8',\n",
                "'#f4cae4',\n",
                "'#e6f5c9',\n",
                "'#fff2ae',\n",
                "'#f1e2cc',\n",
                "'#cccccc',\n",
                "]\n",
                "\n",
                "unisoncache_color = new_color[0]\n",
                "base_color = new_color[1]\n",
                "baryon_color = new_color[2]\n",
                "dice_color = new_color[6]\n",
                "hybrid2_color = new_color[3]\n",
                "baryon_64B_color = easypyplot.color.color_scale(baryon_color, 2, low=0.7, high=1.0)[-1]\n",
                "fig_bar_colors = [unisoncache_color, dice_color, baryon_64B_color, baryon_color]\n",
                "bw_bar_colors = fig_bar_colors\n",
                "# bw_bar_colors = [easypyplot.color.COLOR_SET[i] for i in [5, 3]] + [hybrid2_color] + [easypyplot.color.COLOR_SET[0]]\n",
                "# bw_bar_colors = [fpcache_color, baryon_color, hybrid2_color, baryon_high_color]\n",
                "assert len(bw_bar_colors) == len(bw_scheme_dict)\n",
                "\n",
                "# pprint(bw_yticks)"
            ]
        },
        {
            "cell_type": "code",
            "execution_count": 4,
            "metadata": {},
            "outputs": [],
            "source": [
                "''' Plot parameters. Change only if you want to resize the graph, etc. '''\n",
                "fig_bar_width = 0.7\n",
                "fig_dims = (5, 2)\n",
                "fig_label_fontsize = 10\n",
                "ft = fm.FontProperties('Times New Roman')\n",
                "ft.set_size(10.0)\n"
            ]
        },
        {
            "cell_type": "code",
            "execution_count": 5,
            "metadata": {},
            "outputs": [
                {
                    "name": "stdout",
                    "output_type": "stream",
                    "text": [
                        "[[0.818, 0.8690000000000001, 0.912, 0.968],\n",
                        " [0.53, 0.9279999999999999, 0.973, 0.973],\n",
                        " [0.36700000000000005, 0.44, 0.5660000000000001, 0.772],\n",
                        " [0.8419, 0.8758, 0.9594, 0.9891],\n",
                        " [0.6231, 0.8988, 0.9274, 0.9818],\n",
                        " [0.667, 0.76, 0.823, 0.941]]\n"
                    ]
                }
            ],
            "source": [
                "''' Load data from file. '''\n",
                "csv_hd = pd.read_csv(csv_path, sep=',')\n",
                "fig_xlabels = []\n",
                "fig_xticks = []\n",
                "fig_data_2darr = []\n",
                "xtick = -1\n",
                "for idx, row in csv_hd.iterrows():\n",
                "    workload_fullname = row[0]\n",
                "    if any(workload in workload_fullname for workload in workload_list):\n",
                "        row_value = []\n",
                "        for col in row.keys():\n",
                "            if any(scheme in col for scheme in scheme_dict):\n",
                "                row_value.append(row[col])\n",
                "        fig_data_2darr.append(row_value)\n",
                "        fig_xlabels.append(workload_fullname)\n",
                "        xtick += 1\n",
                "        fig_xticks.append(xtick)\n",
                "assert len(fig_data_2darr) == len(fig_xlabels) == len(fig_xticks)\n",
                "\n",
                "pprint(fig_data_2darr)"
            ]
        },
        {
            "cell_type": "code",
            "execution_count": 6,
            "metadata": {},
            "outputs": [
                {
                    "name": "stdout",
                    "output_type": "stream",
                    "text": [
                        "[[1.7556180000000001, 1.480604, 1.7208740000000002, 1.9238169999999999],\n",
                        " [1.039069, 1.829491, 1.1201969999999999, 1.157943],\n",
                        " [3.241491, 2.357379, 1.7185080000000001, 1.853568],\n",
                        " [1.537988, 1.443626, 1.4035090000000001, 1.183992],\n",
                        " [2.180549, 2.3435669999999997, 1.4823600000000001, 1.02145],\n",
                        " [1.78520278, 1.69676391, 1.63829008, 1.5201221999999999]]\n"
                    ]
                }
            ],
            "source": [
                "''' bw: Load data from file. '''\n",
                "csv_hd = pd.read_csv(bw_csv_path, sep=',')\n",
                "bw_xlabels = []\n",
                "bw_xticks = []\n",
                "bw_data_2darr = []\n",
                "xtick = -1\n",
                "for idx, row in csv_hd.iterrows():\n",
                "    workload_fullname = row[0]\n",
                "    if any(workload in workload_fullname for workload in workload_list):\n",
                "        row_value = []\n",
                "        for col in row.keys():\n",
                "            if any(scheme in col for scheme in bw_scheme_dict):\n",
                "                row_value.append(row[col])\n",
                "        bw_data_2darr.append(row_value)\n",
                "        bw_xlabels.append(workload_fullname)\n",
                "        xtick += 1\n",
                "        bw_xticks.append(xtick)\n",
                "assert len(bw_data_2darr) == len(bw_xlabels) == len(bw_xticks)\n",
                "\n",
                "pprint(bw_data_2darr)"
            ]
        },
        {
            "cell_type": "code",
            "execution_count": 7,
            "metadata": {},
            "outputs": [
                {
                    "data": {
                        "image/png": "[encoded data removed]",
                        "text/plain": [
                            "<Figure size 360x144 with 2 Axes>"
                        ]
                    },
                    "metadata": {
                        "needs_background": "light"
                    },
                    "output_type": "display_data"
                }
            ],
            "source": [
                "''' Ploting script '''\n",
                "pp, fig = easypyplot.pdf.plot_setup(fig_name, fig_dims)\n",
                "ax = fig.add_subplot(1, 2, 1)\n",
                "easypyplot.format.turn_off_box(ax)\n",
                "\n",
                "h = easypyplot.barchart.draw(\n",
                "    ax, fig_data_2darr,\n",
                "    width=fig_bar_width,\n",
                "    breakdown=False,\n",
                "    group_names=fig_xlabels,\n",
                "    xticks=fig_xticks,\n",
                "    xticklabelfontsize=fig_label_fontsize,\n",
                "    xticklabelrotation=40, # Uncomment this for rotated x tick labels\n",
                "    colors=fig_bar_colors)\n",
                "\n",
                "''' x axis '''\n",
                "ax.xaxis.set_tick_params(pad=-3)\n",
                "# fig_xticks = [item-0.5 for item in fig_xticks]\n",
                "ax.set_xlim([ax.get_xticks()[0] - 1, ax.get_xticks()[-1] + 1])\n",
                "ax.set_xticks(fig_xticks)\n",
                "abbr_wk_name = []\n",
                "for item in fig_xlabels:\n",
                "    if item.startswith('5'):\n",
                "        abbr_wk_name.append(str(item[0:3]))\n",
                "    else:\n",
                "        abbr_wk_name.append(workload_dict[item])\n",
                "ax.set_xticklabels(abbr_wk_name, fontsize=fig_label_fontsize, fontproperties=ft, ha='right')\n",
                "ax.xaxis.set_ticks_position('none') # Comment this and the next line for visible ticks\n",
                "# ax.tick_params(direction='in') # [in, out, inout]\n",
                "# ax.set_xlabel(fig_title)\n",
                "''' y axis '''\n",
                "easypyplot.format.set_axis_to_percent(ax.yaxis)\n",
                "ax.yaxis.grid(True)\n",
                "ax.set_ylim(fig_ylim)\n",
                "ax.set_yticks(fig_yticks)\n",
                "ax.set_ylabel('Fast Mem Serve Rate', multialignment='center', fontproperties=ft)\n",
                "\n",
                "ax2 = fig.add_subplot(1, 2, 2)\n",
                "easypyplot.format.turn_off_box(ax2)\n",
                "h2 = easypyplot.barchart.draw(\n",
                "    ax2, bw_data_2darr,\n",
                "    width=fig_bar_width,\n",
                "    breakdown=False,\n",
                "    group_names=bw_xlabels,\n",
                "    xticks=bw_xticks,\n",
                "    xticklabelfontsize=fig_label_fontsize,\n",
                "    xticklabelrotation=40,\n",
                "    colors=bw_bar_colors)\n",
                "''' x axis '''\n",
                "ax2.xaxis.set_tick_params(pad=-3)\n",
                "ax2.set_xlim([ax2.get_xticks()[0] - 1, ax2.get_xticks()[-1] + 1])\n",
                "ax2.set_xticks(fig_xticks)\n",
                "abbr_wk_name = []\n",
                "for item in fig_xlabels:\n",
                "    if item.startswith('5'):\n",
                "        abbr_wk_name.append(str(item[0:3]))\n",
                "    else:\n",
                "        abbr_wk_name.append(workload_dict[item])\n",
                "ax2.set_xticklabels(abbr_wk_name, fontsize=fig_label_fontsize, fontproperties=ft, ha='right')\n",
                "ax2.xaxis.set_ticks_position('none') # Comment this and the next line for visible ticks\n",
                "# ax.tick_params(direction='in') # [in, out, inout]\n",
                "''' y axis '''\n",
                "# easypyplot.format.set_axis_to_percent(ax2.yaxis)\n",
                "ax2.yaxis.grid(True)\n",
                "ax2.set_ylim(bw_ylim)\n",
                "ax2.set_yticks(bw_yticks)\n",
                "ax2.set_ylabel('Bandwith Bloat Factor', multialignment='center', fontproperties=ft)\n",
                "# ax2.set_xlabel('(b) Super-block Size', fontproperties=ft)\n",
                "\n",
                "''' legend '''\n",
                "legend = [scheme_dict[item] for item in scheme_dict]\n",
                "fig.legend(h, legend, loc='upper center', bbox_to_anchor=(0.5, 1.09),\n",
                "        ncol=4, frameon=False, prop=ft, columnspacing=1.5)\n",
                "\n",
                "''' last resize '''\n",
                "plt.tight_layout()\n",
                "easypyplot.format.resize_ax_box(ax, hratio=0.8)\n",
                "easypyplot.format.resize_ax_box(ax2, hratio=0.8)"
            ]
        },
        {
            "cell_type": "code",
            "execution_count": 8,
            "metadata": {},
            "outputs": [],
            "source": [
                "''' Save figures'''\n",
                "fig.savefig(fig_name+'.pdf', format=\"pdf\", bbox_inches = 'tight')\n",
                "# easypyplot.pdf.plot_teardown(pp) # it generates wierd chopped figures"
            ]
        }
    ],
    "metadata": {
        "kernelspec": {
            "display_name": "Python 3.8.5 64-bit",
            "language": "python",
            "name": "python3"
        },
        "language_info": {
            "codemirror_mode": {
                "name": "ipython",
                "version": 3
            },
            "file_extension": ".py",
            "mimetype": "text/x-python",
            "name": "python",
            "nbconvert_exporter": "python",
            "pygments_lexer": "ipython3",
            "version": "3.8.5"
        },
        "orig_nbformat": 4,
        "vscode": {
            "interpreter": {
                "hash": "9500a60ae47ddf778c75ed8f5c5589feb8456bc26627d78889e135849e54d69d"
            }
        }
    },
    "nbformat": 4,
    "nbformat_minor": 2
}
