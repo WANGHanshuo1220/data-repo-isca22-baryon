{
    "cells": [
        {
            "cell_type": "code",
            "execution_count": 17,
            "metadata": {},
            "outputs": [],
            "source": [
                "''' Required packages. Use python3 -m pip install xxx for all the packages. '''\n",
                "from pprint import pprint\n",
                "import pandas as pd\n",
                "import numpy as np\n",
                "import matplotlib.font_manager as fm\n",
                "from matplotlib import pyplot as plt\n",
                "import easypyplot"
            ]
        },
        {
            "cell_type": "code",
            "execution_count": 18,
            "metadata": {},
            "outputs": [],
            "source": [
                "csv_path = './1_performance/hitrate.csv'\n",
                "workload_list = ['502', '503', '520', '549']\n",
                "scheme_list = ['Footprint Cache', 'Baryon (Low Assoc)', 'Hybrid2', 'Baryon (High Assoc)']\n",
                "workload_dict = {item: item for item in workload_list}\n",
                "scheme_dict = {item: item for item in scheme_list}\n",
                "scheme_dict['Baryon (Low Assoc)'] = 'Baryon'\n",
                "scheme_dict['Baryon (High Assoc)'] = 'Baryon-High'\n",
                "\n",
                "fig_title = 'Fast Memory &\\nSlow Memory Utilization'\n",
                "fig_name = 'graph_hitrate_bwutil'\n",
                "fig_ylim = (0, 1)\n",
                "fig_yticks = list(np.arange(fig_ylim[0], fig_ylim[1]+0.01, 0.2))\n",
                "hitrate_ylim = (0, 1)\n",
                "hitrate_yticks = list(np.arange(hitrate_ylim[0], hitrate_ylim[1]+0.01, 0.2))\n",
                "hybrid2_color = '#f2c3e0'\n",
                "fpcache_color = '#c4cfe4'\n",
                "baryon_color = '#efdec5'\n",
                "baryon_high_color = '#e2d3bb'\n",
                "fig_bar_colors = [fpcache_color, baryon_color, hybrid2_color, baryon_high_color]\n",
                "bw_bar_colors = [fpcache_color, baryon_color, hybrid2_color, baryon_high_color]\n",
                "# fig_bar_colors = [easypyplot.color.COLOR_SET[i] for i in [5, 3]] + [hybrid2_color] + [easypyplot.color.COLOR_SET[0]]\n",
                "assert len(fig_bar_colors) == len(scheme_dict)\n",
                "\n",
                "# pprint(fig_yticks)"
            ]
        },
        {
            "cell_type": "code",
            "execution_count": 19,
            "metadata": {},
            "outputs": [],
            "source": [
                "bw_csv_path = './1_performance/slowtraffic.csv'\n",
                "workload_list = ['502', '503', '520', '549']\n",
                "workload_dict = {item: item for item in workload_list}\n",
                "bw_scheme_dict = {\n",
                "    item: item for item in scheme_list\n",
                "}\n",
                "\n",
                "bw_title = 'Normalized Speedup'\n",
                "bw_ylim = (0, 5)\n",
                "bw_yticks = list(np.arange(bw_ylim[0], bw_ylim[1]+0.01, 1))\n",
                "hybrid2_color = '#fb9a99'\n",
                "# bw_bar_colors = [easypyplot.color.COLOR_SET[i] for i in [5, 3]] + [hybrid2_color] + [easypyplot.color.COLOR_SET[0]]\n",
                "# bw_bar_colors = [fpcache_color, baryon_color, hybrid2_color, baryon_high_color]\n",
                "assert len(bw_bar_colors) == len(bw_scheme_dict)\n",
                "\n",
                "# pprint(bw_yticks)"
            ]
        },
        {
            "cell_type": "code",
            "execution_count": 20,
            "metadata": {},
            "outputs": [],
            "source": [
                "''' Plot parameters. Change only if you want to resize the graph, etc. '''\n",
                "fig_bar_width = 0.7\n",
                "fig_dims = (5, 2)\n",
                "fig_label_fontsize = 10\n",
                "ft = fm.FontProperties('Times New Roman')\n",
                "ft.set_size(10.0)"
            ]
        },
        {
            "cell_type": "code",
            "execution_count": 21,
            "metadata": {},
            "outputs": [
                {
                    "name": "stdout",
                    "output_type": "stream",
                    "text": [
                        "[[0.75, 0.85, 0.9, 0.92],\n",
                        " [0.54, 0.83, 0.88, 0.94],\n",
                        " [0.75, 0.82, 0.79, 0.89],\n",
                        " [0.43, 0.82, 0.75, 0.87]]\n"
                    ]
                }
            ],
            "source": [
                "''' Load data from file. '''\n",
                "csv_hd = pd.read_csv(csv_path, sep=',')\n",
                "fig_xlabels = []\n",
                "fig_xticks = []\n",
                "fig_data_2darr = []\n",
                "xtick = -1\n",
                "for idx, row in csv_hd.iterrows():\n",
                "    workload_fullname = row[0]\n",
                "    if any(workload in workload_fullname for workload in workload_list):\n",
                "        row_value = []\n",
                "        for col in row.keys():\n",
                "            if any(scheme in col for scheme in scheme_dict):\n",
                "                row_value.append(row[col])\n",
                "        fig_data_2darr.append(row_value)\n",
                "        fig_xlabels.append(workload_fullname)\n",
                "        xtick += 1\n",
                "        fig_xticks.append(xtick)\n",
                "assert len(fig_data_2darr) == len(fig_xlabels) == len(fig_xticks)\n",
                "\n",
                "pprint(fig_data_2darr)"
            ]
        },
        {
            "cell_type": "code",
            "execution_count": 22,
            "metadata": {},
            "outputs": [
                {
                    "name": "stdout",
                    "output_type": "stream",
                    "text": [
                        "[[1.470588235, 1.144494636, 2.0, 1.585720214],\n",
                        " [2.3809523809999997, 1.6283843580000001, 3.03030303, 2.673584761],\n",
                        " [1.176470588, 1.156440924, 4.166666667, 2.485551683],\n",
                        " [1.388888889, 1.19047619, 3.03030303, 2.0702019959999998]]\n"
                    ]
                }
            ],
            "source": [
                "''' bw: Load data from file. '''\n",
                "csv_hd = pd.read_csv(bw_csv_path, sep=',')\n",
                "bw_xlabels = []\n",
                "bw_xticks = []\n",
                "bw_data_2darr = []\n",
                "xtick = -1\n",
                "for idx, row in csv_hd.iterrows():\n",
                "    workload_fullname = row[0]\n",
                "    if any(workload in workload_fullname for workload in workload_list):\n",
                "        row_value = []\n",
                "        for col in row.keys():\n",
                "            if any(scheme in col for scheme in bw_scheme_dict):\n",
                "                row_value.append(row[col])\n",
                "        bw_data_2darr.append(row_value)\n",
                "        bw_xlabels.append(workload_fullname)\n",
                "        xtick += 1\n",
                "        bw_xticks.append(xtick)\n",
                "assert len(bw_data_2darr) == len(bw_xlabels) == len(bw_xticks)\n",
                "\n",
                "pprint(bw_data_2darr)"
            ]
        },
        {
            "cell_type": "code",
            "execution_count": 26,
            "metadata": {},
            "outputs": [
                {
                    "data": {
                        "image/png": "[encoded data removed]",
                        "text/plain": [
                            "<Figure size 360x144 with 2 Axes>"
                        ]
                    },
                    "metadata": {
                        "needs_background": "light"
                    },
                    "output_type": "display_data"
                }
            ],
            "source": [
                "''' Ploting script '''\n",
                "pp, fig = easypyplot.pdf.plot_setup(fig_name, fig_dims)\n",
                "ax = fig.add_subplot(1, 2, 1)\n",
                "easypyplot.format.turn_off_box(ax)\n",
                "\n",
                "h = easypyplot.barchart.draw(\n",
                "    ax, fig_data_2darr,\n",
                "    width=fig_bar_width,\n",
                "    breakdown=False,\n",
                "    group_names=fig_xlabels,\n",
                "    xticks=fig_xticks,\n",
                "    xticklabelfontsize=fig_label_fontsize,\n",
                "    xticklabelrotation=0,\n",
                "    prop=ft,\n",
                "    colors=fig_bar_colors)\n",
                "\n",
                "''' x axis '''\n",
                "# fig_xticks = [item-0.5 for item in fig_xticks]\n",
                "ax.set_xlim([ax.get_xticks()[0] - 1, ax.get_xticks()[-1] + 1])\n",
                "ax.set_xticks(fig_xticks)\n",
                "abbr_wk_name = []\n",
                "for item in fig_xlabels:\n",
                "    if item.startswith('5'):\n",
                "        abbr_wk_name.append(str(item[0:3]))\n",
                "    else:\n",
                "        abbr_wk_name.append(item)\n",
                "ax.set_xticklabels(abbr_wk_name, fontsize=fig_label_fontsize, fontproperties=ft)\n",
                "ax.xaxis.set_ticks_position('none') # Comment this and the next line for visible ticks\n",
                "# ax.tick_params(direction='in') # [in, out, inout]\n",
                "# ax.set_xlabel(fig_title)\n",
                "''' y axis '''\n",
                "easypyplot.format.set_axis_to_percent(ax.yaxis)\n",
                "ax.yaxis.grid(True)\n",
                "ax.set_ylim(fig_ylim)\n",
                "ax.set_yticks(fig_yticks)\n",
                "ax.set_ylabel('Fast Mem Serve Rate', multialignment='center', fontproperties=ft)\n",
                "\n",
                "ax2 = fig.add_subplot(1, 2, 2)\n",
                "easypyplot.format.turn_off_box(ax2)\n",
                "h2 = easypyplot.barchart.draw(\n",
                "    ax2, bw_data_2darr,\n",
                "    width=fig_bar_width,\n",
                "    breakdown=False,\n",
                "    group_names=bw_xlabels,\n",
                "    xticks=bw_xticks,\n",
                "    xticklabelfontsize=fig_label_fontsize,\n",
                "    xticklabelrotation=0,\n",
                "    prop=ft,\n",
                "    colors=bw_bar_colors)\n",
                "''' x axis '''\n",
                "ax2.set_xlim([ax2.get_xticks()[0] - 1, ax2.get_xticks()[-1] + 1])\n",
                "ax2.set_xticks(fig_xticks)\n",
                "abbr_wk_name = []\n",
                "for item in fig_xlabels:\n",
                "    if item.startswith('5'):\n",
                "        abbr_wk_name.append(str(item[0:3]))\n",
                "    else:\n",
                "        abbr_wk_name.append(item)\n",
                "ax2.set_xticklabels(abbr_wk_name, fontsize=fig_label_fontsize, fontproperties=ft)\n",
                "ax2.xaxis.set_ticks_position('none') # Comment this and the next line for visible ticks\n",
                "# ax.tick_params(direction='in') # [in, out, inout]\n",
                "''' y axis '''\n",
                "# easypyplot.format.set_axis_to_percent(ax2.yaxis)\n",
                "ax2.yaxis.grid(True)\n",
                "ax2.set_ylim(bw_ylim)\n",
                "ax2.set_yticks(bw_yticks)\n",
                "ax2.set_ylabel('Bandwith Bloat Factor', multialignment='center', fontproperties=ft)\n",
                "# ax2.set_xlabel('(b) Super-block Size', fontproperties=ft)\n",
                "\n",
                "''' legend '''\n",
                "legend = [scheme_dict[item] for item in scheme_dict]\n",
                "fig.legend(h, legend, loc='upper center', bbox_to_anchor=(0.5, 1.09),\n",
                "        ncol=4, frameon=False, prop=ft, columnspacing=1.5)\n",
                "\n",
                "''' last resize '''\n",
                "plt.tight_layout()\n",
                "easypyplot.format.resize_ax_box(ax, hratio=0.8)\n",
                "easypyplot.format.resize_ax_box(ax2, hratio=0.8)"
            ]
        },
        {
            "cell_type": "code",
            "execution_count": 27,
            "metadata": {},
            "outputs": [],
            "source": [
                "''' Save figures'''\n",
                "fig.savefig(fig_name+'.pdf', format=\"pdf\", bbox_inches = 'tight')\n",
                "# easypyplot.pdf.plot_teardown(pp) # it generates wierd chopped figures"
            ]
        }
    ],
    "metadata": {
        "interpreter": {
            "hash": "31f2aee4e71d21fbe5cf8b01ff0e069b9275f58929596ceb00d14d90e3e16cd6"
        },
        "kernelspec": {
            "display_name": "Python 3.6.9 64-bit",
            "name": "python3"
        },
        "language_info": {
            "codemirror_mode": {
                "name": "ipython",
                "version": 3
            },
            "file_extension": ".py",
            "mimetype": "text/x-python",
            "name": "python",
            "nbconvert_exporter": "python",
            "pygments_lexer": "ipython3",
            "version": "3.8.5"
        },
        "orig_nbformat": 4
    },
    "nbformat": 4,
    "nbformat_minor": 2
}
