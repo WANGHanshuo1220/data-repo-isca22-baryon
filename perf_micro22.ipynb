{
    "cells": [
        {
            "cell_type": "code",
            "execution_count": 1,
            "metadata": {},
            "outputs": [],
            "source": [
                "''' Required packages. Use python3 -m pip install xxx for all the packages. '''\n",
                "from pprint import pprint\n",
                "import pandas as pd\n",
                "import numpy as np\n",
                "import matplotlib.font_manager as fm\n",
                "from matplotlib import pyplot as plt\n",
                "import easypyplot"
            ]
        },
        {
            "cell_type": "code",
            "execution_count": 2,
            "metadata": {},
            "outputs": [],
            "source": [
                "''' Plot parameters. Change only if you want to resize the graph, etc. '''\n",
                "fig_bar_width = 0.7\n",
                "fig_dims = (5, 2)\n",
                "fig_label_fontsize = 10\n",
                "ft = fm.FontProperties('Times New Roman')\n",
                "ft.set_size(10.0)"
            ]
        },
        {
            "cell_type": "code",
            "execution_count": 3,
            "metadata": {},
            "outputs": [
                {
                    "name": "stdout",
                    "output_type": "stream",
                    "text": [
                        "[[1, 1.175074, 1.586447],\n",
                        " [1, 0.883878, 1.170923],\n",
                        " [1, 0.957691, 1.140965],\n",
                        " [1, 1.632058, 1.692535],\n",
                        " [1, 1.702809, 1.259058],\n",
                        " [1, 1.512337, 1.6275469999999999],\n",
                        " [1, 1.5686959999999999, 1.476428],\n",
                        " [1, 1.334078, 1.7641580000000001],\n",
                        " [1, 1.758358, 1.762574],\n",
                        " [1, 1.446372, 1.3300020000000001],\n",
                        " [1, 1.11999, 1.249966],\n",
                        " [1, 1.4877340000000001, 1.6943830000000002],\n",
                        " [1, 1.360543, 1.1345319999999999],\n",
                        " [1, 1.2342540000000002, 1.236486],\n",
                        " [1, 1.428244, 1.4880209999999998],\n",
                        " [1, 1.105005, 1.0942020000000001],\n",
                        " [1, 0.738899, 1.433708],\n",
                        " [1, 0.769998, 1.216485],\n",
                        " [1, 1.250489, 1.390714]]\n",
                        "['#b3e2cd', '#cbd5e8', '#f1e2cc']\n"
                    ]
                }
            ],
            "source": [
                "\n",
                "new_color = [\n",
                "'#b3e2cd',\n",
                "'#fdcdac',\n",
                "'#cbd5e8',\n",
                "'#f4cae4',\n",
                "'#e6f5c9',\n",
                "'#fff2ae',\n",
                "'#f1e2cc',\n",
                "'#cccccc',\n",
                "]\n",
                "\n",
                "\n",
                "''' Stage Size: Load data from file. '''\n",
                "csv_path = './1_performance/lowassoc.csv'\n",
                "workload_list = ['502', '503', '505', '507', '519', '520', '527', '549', '554', '557', 'twitter', 'web', 'resnet50', 'resnext50', 'YCSB-A', 'YCSB-B', 'Geomean']\n",
                "scheme_list = ['YACC', 'FPCache', 'Baryon']\n",
                "workload_dict = {item: item for item in workload_list}\n",
                "scheme_dict = {item: item for item in scheme_list}\n",
                "\n",
                "stagesize_title = 'Normalized Performance'\n",
                "fig_name = 'graph_perf_lowassoc'\n",
                "stagesize_ylim = (0, 2.0)\n",
                "stagesize_yticks = list(np.arange(stagesize_ylim[0], stagesize_ylim[1]+0.01, 0.5))\n",
                "\n",
                "\n",
                "fpcache_color = new_color[0]\n",
                "yacc_coolor = new_color[2]\n",
                "baryon_color = new_color[6]\n",
                "hybrid2_color = new_color[3]\n",
                "baryon_high_color = easypyplot.color.COLOR_SET[0]\n",
                "stagesize_bar_colors = [fpcache_color, yacc_coolor, baryon_color]\n",
                "assert len(stagesize_bar_colors) == len(scheme_dict)\n",
                "\n",
                "# pprint(stagesize_yticks)\n",
                "csv_hd = pd.read_csv(csv_path, sep=',')\n",
                "stagesize_xlabels = []\n",
                "stagesize_xticks = []\n",
                "stagesize_data_2darr = []\n",
                "xtick = -1\n",
                "for idx, row in csv_hd.iterrows():\n",
                "    workload_fullname = row[0]\n",
                "    if any(workload in workload_fullname for workload in workload_list):\n",
                "        row_value = []\n",
                "        for col in row.keys():\n",
                "            if any(scheme in col for scheme in scheme_dict):\n",
                "                row_value.append(row[col])\n",
                "        stagesize_data_2darr.append(row_value)\n",
                "        workload_shortname = workload_fullname\n",
                "        if workload_fullname.startswith('5'):\n",
                "            workload_shortname = workload_fullname[0:3]\n",
                "        stagesize_xlabels.append(workload_shortname)\n",
                "        xtick += 1\n",
                "        stagesize_xticks.append(xtick)\n",
                "assert len(stagesize_data_2darr) == len(stagesize_xlabels) == len(stagesize_xticks)\n",
                "\n",
                "pprint(stagesize_data_2darr)\n",
                "\n",
                "pprint(stagesize_bar_colors)"
            ]
        },
        {
            "cell_type": "code",
            "execution_count": null,
            "metadata": {},
            "outputs": [],
            "source": []
        },
        {
            "cell_type": "code",
            "execution_count": 4,
            "metadata": {},
            "outputs": [
                {
                    "data": {
                        "image/png": "[encoded data removed]",
                        "text/plain": [
                            "<Figure size 360x144 with 1 Axes>"
                        ]
                    },
                    "metadata": {
                        "needs_background": "light"
                    },
                    "output_type": "display_data"
                }
            ],
            "source": [
                "''' Ploting script '''\n",
                "pp, fig = easypyplot.pdf.plot_setup(fig_name, fig_dims)\n",
                "stagesize_ax = fig.add_subplot(1, 1, 1)\n",
                "# stagesize_ax2 = stagesize_ax.twinx()\n",
                "# easypyplot.format.turn_off_box(stagesize_ax, twinx_axes=stagesize_ax2)\n",
                "easypyplot.format.turn_off_box(stagesize_ax)\n",
                "stagesize_h = easypyplot.barchart.draw(\n",
                "    stagesize_ax, stagesize_data_2darr,\n",
                "    width=fig_bar_width,\n",
                "    breakdown=False,\n",
                "    group_names=stagesize_xlabels,\n",
                "    xticks=stagesize_xticks,\n",
                "    xticklabelfontsize=fig_label_fontsize,\n",
                "    xticklabelrotation=90,\n",
                "    prop=ft,\n",
                "    colors=stagesize_bar_colors)\n",
                "''' x axis '''\n",
                "stagesize_ax.set_xlim([stagesize_ax.get_xticks()[0] - 1, stagesize_ax.get_xticks()[-1] + 1])\n",
                "stagesize_ax.set_xticks(stagesize_xticks)\n",
                "stagesize_ax.set_xticklabels(stagesize_xlabels, fontsize=fig_label_fontsize, fontproperties=ft)\n",
                "stagesize_ax.xaxis.set_ticks_position('none') # Comment this and the next line for visible ticks\n",
                "# stagesize_ax.tick_params(direction='in') # [in, out, inout]\n",
                "stagesize_ax.set_xlabel('', fontproperties=ft)\n",
                "''' y axis '''\n",
                "stagesize_ax.yaxis.grid(True)\n",
                "stagesize_ax.set_ylim(stagesize_ylim)\n",
                "stagesize_ax.set_yticks(stagesize_yticks)\n",
                "stagesize_ax.set_ylabel(stagesize_title, multialignment='center', fontproperties=ft)\n",
                "# stagesize_ax2.set_ylim([0., 1.])\n",
                "# stagesize_ax2.set_ylabel('Committed Block Hit Rate', multialignment='center', fontproperties=ft)\n",
                "''' legend '''\n",
                "# h, l = stagesize_ax.get_legend_handles_labels()\n",
                "# stagesize_ax.legend(handles=[item for item in h[:-1]], labels= [item for item in l[:-1]])\n",
                "\n",
                "legend = [scheme_dict[item] for item in scheme_dict]\n",
                "fig.legend(stagesize_h, legend, loc='upper left', bbox_to_anchor=(0.1, 1.13),\n",
                "        ncol=3, frameon=False, prop=ft, columnspacing=1, labelspacing=0.1)\n",
                "\n",
                "''' last resize '''\n",
                "plt.tight_layout()\n",
                "easypyplot.format.resize_ax_box(stagesize_ax, hratio=0.8)"
            ]
        },
        {
            "cell_type": "code",
            "execution_count": 5,
            "metadata": {},
            "outputs": [],
            "source": [
                "''' Save figures'''\n",
                "fig.savefig(fig_name+'.pdf', format=\"pdf\", bbox_inches = 'tight')\n",
                "# easypyplot.pdf.plot_teardown(pp) # it generates wierd chopped figures"
            ]
        },
        {
            "cell_type": "markdown",
            "metadata": {},
            "source": [
                "## High-assoc"
            ]
        },
        {
            "cell_type": "code",
            "execution_count": 6,
            "metadata": {},
            "outputs": [
                {
                    "name": "stdout",
                    "output_type": "stream",
                    "text": [
                        "[[1, 1.001213, 1.188374],\n",
                        " [1, 0.978633, 1.174351],\n",
                        " [1, 0.773845, 1.1126340000000001],\n",
                        " [1, 1.062085, 1.080307],\n",
                        " [1, 1.213784, 1.185007],\n",
                        " [1, 0.485195, 1.005089],\n",
                        " [1, 1.494421, 1.557321],\n",
                        " [1, 0.805499, 1.1864],\n",
                        " [1, 0.582955, 0.8368549999999999],\n",
                        " [1, 1.3163129999999998, 1.3112219999999999],\n",
                        " [1, 0.963353, 1.088316],\n",
                        " [1, 1.0480690000000001, 1.047232],\n",
                        " [1, 1.9898490000000002, 1.867661],\n",
                        " [1, 1.411728, 1.409764],\n",
                        " [1, 0.774177, 1.251348],\n",
                        " [1, 0.9894940000000001, 1.1500920000000001],\n",
                        " [1, 0.8095180000000001, 1.0900100000000001],\n",
                        " [1, 0.797662, 1.174273],\n",
                        " [1, 0.973319, 1.188512]]\n",
                        "['#f4cae4',\n",
                        " (0.7892156862745098, 0.8280933062880325, 0.9019607843137255, 1.0),\n",
                        " (0.9019607843137255, 0.8458221462859002, 0.7634854771784233, 1.0)]\n"
                    ]
                }
            ],
            "source": [
                "\n",
                "''' Stage Size: Load data from file. '''\n",
                "csv_path = './1_performance/highassoc.csv'\n",
                "workload_list = ['502', '503', '505', '507', '519', '520', '527', '549', '554', '557', 'twitter', 'web', 'resnet50', 'resnext50', 'YCSB-A', 'YCSB-B', 'Geomean']\n",
                "scheme_list = ['YACC-High', 'Hybrid2', 'Baryon-High']\n",
                "workload_dict = {item: item for item in workload_list}\n",
                "scheme_dict = {item: item for item in scheme_list}\n",
                "\n",
                "stagesize_title = 'Normalized Performance'\n",
                "fig_name = 'graph_perf_highassoc'\n",
                "stagesize_ylim = (0, 1.6)\n",
                "stagesize_yticks = list(np.arange(stagesize_ylim[0], stagesize_ylim[1]+0.01, 0.5))\n",
                "\n",
                "fpcache_color = new_color[0]\n",
                "yacc_color = new_color[2]\n",
                "baryon_color = new_color[6]\n",
                "hybrid2_color = new_color[3]\n",
                "yacc_high_color = easypyplot.color.color_scale(yacc_color, 2, low=0.8, high=0.9) [1]\n",
                "baryon_high_color = easypyplot.color.color_scale(baryon_color, 2, low=0.8, high=0.9) [1]\n",
                "stagesize_bar_colors = [hybrid2_color, yacc_high_color, baryon_high_color]\n",
                "assert len(stagesize_bar_colors) == len(scheme_dict)\n",
                "\n",
                "# pprint(stagesize_yticks)\n",
                "csv_hd = pd.read_csv(csv_path, sep=',')\n",
                "stagesize_xlabels = []\n",
                "stagesize_xticks = []\n",
                "stagesize_data_2darr = []\n",
                "xtick = -1\n",
                "for idx, row in csv_hd.iterrows():\n",
                "    workload_fullname = row[0]\n",
                "    if any(workload in workload_fullname for workload in workload_list):\n",
                "        row_value = []\n",
                "        for col in row.keys():\n",
                "            if any(scheme in col for scheme in scheme_dict):\n",
                "                row_value.append(row[col])\n",
                "        stagesize_data_2darr.append(row_value)\n",
                "        workload_shortname = workload_fullname\n",
                "        if workload_fullname.startswith('5'):\n",
                "            workload_shortname = workload_fullname[0:3]\n",
                "        stagesize_xlabels.append(workload_shortname)\n",
                "        xtick += 1\n",
                "        stagesize_xticks.append(xtick)\n",
                "assert len(stagesize_data_2darr) == len(stagesize_xlabels) == len(stagesize_xticks)\n",
                "\n",
                "pprint(stagesize_data_2darr)\n",
                "\n",
                "pprint(stagesize_bar_colors)"
            ]
        },
        {
            "cell_type": "code",
            "execution_count": 7,
            "metadata": {},
            "outputs": [
                {
                    "data": {
                        "image/png": "[encoded data removed]",
                        "text/plain": [
                            "<Figure size 360x144 with 1 Axes>"
                        ]
                    },
                    "metadata": {
                        "needs_background": "light"
                    },
                    "output_type": "display_data"
                }
            ],
            "source": [
                "''' Ploting script '''\n",
                "pp, fig = easypyplot.pdf.plot_setup(fig_name, fig_dims)\n",
                "stagesize_ax = fig.add_subplot(1, 1, 1)\n",
                "# stagesize_ax2 = stagesize_ax.twinx()\n",
                "# easypyplot.format.turn_off_box(stagesize_ax, twinx_axes=stagesize_ax2)\n",
                "easypyplot.format.turn_off_box(stagesize_ax)\n",
                "stagesize_h = easypyplot.barchart.draw(\n",
                "    stagesize_ax, stagesize_data_2darr,\n",
                "    width=fig_bar_width,\n",
                "    breakdown=False,\n",
                "    group_names=stagesize_xlabels,\n",
                "    xticks=stagesize_xticks,\n",
                "    xticklabelfontsize=fig_label_fontsize,\n",
                "    xticklabelrotation=90,\n",
                "    prop=ft,\n",
                "    colors=stagesize_bar_colors)\n",
                "''' x axis '''\n",
                "stagesize_ax.set_xlim([stagesize_ax.get_xticks()[0] - 1, stagesize_ax.get_xticks()[-1] + 1])\n",
                "stagesize_ax.set_xticks(stagesize_xticks)\n",
                "stagesize_ax.set_xticklabels(stagesize_xlabels, fontsize=fig_label_fontsize, fontproperties=ft)\n",
                "stagesize_ax.xaxis.set_ticks_position('none') # Comment this and the next line for visible ticks\n",
                "# stagesize_ax.tick_params(direction='in') # [in, out, inout]\n",
                "stagesize_ax.set_xlabel('', fontproperties=ft)\n",
                "''' y axis '''\n",
                "stagesize_ax.yaxis.grid(True)\n",
                "stagesize_ax.set_ylim(stagesize_ylim)\n",
                "stagesize_ax.set_yticks(stagesize_yticks)\n",
                "stagesize_ax.set_ylabel(stagesize_title, multialignment='center', fontproperties=ft)\n",
                "# stagesize_ax2.set_ylim([0., 1.])\n",
                "# stagesize_ax2.set_ylabel('Committed Block Hit Rate', multialignment='center', fontproperties=ft)\n",
                "''' legend '''\n",
                "# h, l = stagesize_ax.get_legend_handles_labels()\n",
                "# stagesize_ax.legend(handles=[item for item in h[:-1]], labels= [item for item in l[:-1]])\n",
                "\n",
                "legend = [scheme_dict[item] for item in scheme_dict]\n",
                "fig.legend(stagesize_h, legend, loc='upper left', bbox_to_anchor=(0.1, 1.13),\n",
                "        ncol=3, frameon=False, prop=ft, columnspacing=1, labelspacing=0.1)\n",
                "\n",
                "''' last resize '''\n",
                "plt.tight_layout()\n",
                "easypyplot.format.resize_ax_box(stagesize_ax, hratio=0.8)"
            ]
        },
        {
            "cell_type": "code",
            "execution_count": 8,
            "metadata": {},
            "outputs": [],
            "source": [
                "''' Save figures'''\n",
                "fig.savefig(fig_name+'.pdf', format=\"pdf\", bbox_inches = 'tight')\n",
                "# easypyplot.pdf.plot_teardown(pp) # it generates wierd chopped figures"
            ]
        }
    ],
    "metadata": {
        "interpreter": {
            "hash": "31f2aee4e71d21fbe5cf8b01ff0e069b9275f58929596ceb00d14d90e3e16cd6"
        },
        "kernelspec": {
            "display_name": "Python 3.6.9 64-bit",
            "name": "python3"
        },
        "language_info": {
            "codemirror_mode": {
                "name": "ipython",
                "version": 3
            },
            "file_extension": ".py",
            "mimetype": "text/x-python",
            "name": "python",
            "nbconvert_exporter": "python",
            "pygments_lexer": "ipython3",
            "version": "3.8.5"
        },
        "orig_nbformat": 4
    },
    "nbformat": 4,
    "nbformat_minor": 2
}
