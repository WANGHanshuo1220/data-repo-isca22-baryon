{
    "cells": [
        {
            "cell_type": "code",
            "execution_count": 89,
            "metadata": {},
            "outputs": [],
            "source": [
                "''' Required packages. Use python3 -m pip install xxx for all the packages. '''\n",
                "from pprint import pprint\n",
                "import pandas as pd\n",
                "import numpy as np\n",
                "import matplotlib.font_manager as fm\n",
                "from matplotlib import pyplot as plt\n",
                "import easypyplot"
            ]
        },
        {
            "cell_type": "code",
            "execution_count": 90,
            "metadata": {},
            "outputs": [],
            "source": [
                "''' Plot parameters. Change only if you want to resize the graph, etc. '''\n",
                "fig_bar_width = 0.7\n",
                "fig_dims = (5, 2)\n",
                "fig_label_fontsize = 10\n",
                "ft = fm.FontProperties('Times New Roman')\n",
                "ft.set_size(10.0)"
            ]
        },
        {
            "cell_type": "code",
            "execution_count": 91,
            "metadata": {},
            "outputs": [
                {
                    "name": "stdout",
                    "output_type": "stream",
                    "text": [
                        "[[1.0, 1.0552, 1.1982, 1.3414],\n",
                        " [1.0, 1.0495, 0.9603, 1.1365],\n",
                        " [1.0, 1.0278, 1.1348, 1.1103],\n",
                        " [1.0, 1.0164, 1.2523, 1.3002],\n",
                        " [1.0, 0.963, 1.238, 1.1304],\n",
                        " [1.0, 1.0398, 1.2037, 1.2785],\n",
                        " [1.0, 1.0159, 1.3912, 1.2075],\n",
                        " [1.0, 1.1255, 1.257, 1.3251],\n",
                        " [1.0, 1.127, 1.3396, 1.3396],\n",
                        " [1.0, 1.0427, 0.9644, 0.9495],\n",
                        " [1.0, 1.0291, 0.9469, 1.223],\n",
                        " [1.0, 1.0812, 0.8275, 1.3458],\n",
                        " [1.0, 1.0034, 0.989, 1.2224],\n",
                        " [1.0, 1.0043, 0.8922, 1.1541],\n",
                        " [1.0, 1.1599, 1.0389, 1.2822],\n",
                        " [1.0, 1.1001, 0.9289, 1.2415],\n",
                        " [1.0, 1.0224, 0.9338, 1.1293],\n",
                        " [1.0, 1.0185, 0.9053, 1.1345],\n",
                        " [1.0, 1.0478, 1.065, 1.2094]]\n",
                        "['#fdcdac', '#cbd5e8', '#b3e2cd', '#f1e2cc']\n"
                    ]
                }
            ],
            "source": [
                "\n",
                "new_color = [\n",
                "'#b3e2cd',\n",
                "'#fdcdac',\n",
                "'#cbd5e8',\n",
                "'#f4cae4',\n",
                "'#e6f5c9',\n",
                "'#fff2ae',\n",
                "'#f1e2cc',\n",
                "'#cccccc',\n",
                "]\n",
                "\n",
                "\n",
                "''' Stage Size: Load data from file. '''\n",
                "csv_path = './1_performance/lowassoc.csv'\n",
                "workload_list = ['602', '603', '605', '607', '619', '620', '627', '649', '654', '657', 'twitter', 'web', 'resnet50', 'resnext50', 'YCSB-A', 'YCSB-B', 'Geomean']\n",
                "scheme_list = ['Baseline', 'YACC', 'Unison Cache', 'Baryon']\n",
                "workload_dict = {item: item for item in workload_list}\n",
                "scheme_dict = {item: item for item in scheme_list}\n",
                "\n",
                "stagesize_title = 'Normalized Performance'\n",
                "fig_name = 'graph_perf_lowassoc'\n",
                "stagesize_ylim = (0, 2.0)\n",
                "stagesize_yticks = list(np.arange(stagesize_ylim[0], stagesize_ylim[1]+0.01, 0.5))\n",
                "\n",
                "\n",
                "fpcache_color = new_color[0]\n",
                "base_color = new_color[1]\n",
                "yacc_color = new_color[2]\n",
                "baryon_color = new_color[6]\n",
                "hybrid2_color = new_color[3]\n",
                "baryon_high_color = easypyplot.color.COLOR_SET[0]\n",
                "stagesize_bar_colors = [base_color, yacc_color, fpcache_color, baryon_color]\n",
                "assert len(stagesize_bar_colors) == len(scheme_dict)\n",
                "\n",
                "# pprint(stagesize_yticks)\n",
                "csv_hd = pd.read_csv(csv_path, sep=',')\n",
                "stagesize_xlabels = []\n",
                "stagesize_xticks = []\n",
                "stagesize_data_2darr = []\n",
                "xtick = -1\n",
                "for idx, row in csv_hd.iterrows():\n",
                "    workload_fullname = row[0]\n",
                "    if any(workload in workload_fullname for workload in workload_list):\n",
                "        row_value = []\n",
                "        for col in row.keys():\n",
                "            if any(scheme in col for scheme in scheme_dict):\n",
                "                row_value.append(row[col])\n",
                "        stagesize_data_2darr.append(row_value)\n",
                "        workload_shortname = workload_fullname\n",
                "        if workload_fullname.startswith('6'):\n",
                "            workload_shortname = workload_fullname[0:3]\n",
                "        stagesize_xlabels.append(workload_shortname)\n",
                "        xtick += 1\n",
                "        stagesize_xticks.append(xtick)\n",
                "assert len(stagesize_data_2darr) == len(stagesize_xlabels) == len(stagesize_xticks)\n",
                "\n",
                "pprint(stagesize_data_2darr)\n",
                "\n",
                "pprint(stagesize_bar_colors)"
            ]
        },
        {
            "cell_type": "code",
            "execution_count": 92,
            "metadata": {},
            "outputs": [
                {
                    "data": {
                        "image/png": "[encoded data removed]",
                        "text/plain": [
                            "<Figure size 360x144 with 1 Axes>"
                        ]
                    },
                    "metadata": {
                        "needs_background": "light"
                    },
                    "output_type": "display_data"
                }
            ],
            "source": [
                "''' Ploting script '''\n",
                "pp, fig = easypyplot.pdf.plot_setup(fig_name, fig_dims)\n",
                "stagesize_ax = fig.add_subplot(1, 1, 1)\n",
                "# stagesize_ax2 = stagesize_ax.twinx()\n",
                "# easypyplot.format.turn_off_box(stagesize_ax, twinx_axes=stagesize_ax2)\n",
                "easypyplot.format.turn_off_box(stagesize_ax)\n",
                "stagesize_h = easypyplot.barchart.draw(\n",
                "    stagesize_ax, stagesize_data_2darr,\n",
                "    width=fig_bar_width,\n",
                "    breakdown=False,\n",
                "    group_names=stagesize_xlabels,\n",
                "    xticks=stagesize_xticks,\n",
                "    xticklabelfontsize=fig_label_fontsize,\n",
                "    xticklabelrotation=90,\n",
                "    prop=ft,\n",
                "    colors=stagesize_bar_colors)\n",
                "''' x axis '''\n",
                "stagesize_ax.set_xlim([stagesize_ax.get_xticks()[0] - 1, stagesize_ax.get_xticks()[-1] + 1])\n",
                "stagesize_ax.set_xticks(stagesize_xticks)\n",
                "stagesize_ax.set_xticklabels(stagesize_xlabels, fontsize=fig_label_fontsize, fontproperties=ft)\n",
                "stagesize_ax.xaxis.set_ticks_position('none') # Comment this and the next line for visible ticks\n",
                "# stagesize_ax.tick_params(direction='in') # [in, out, inout]\n",
                "stagesize_ax.set_xlabel('', fontproperties=ft)\n",
                "''' y axis '''\n",
                "stagesize_ax.yaxis.grid(True)\n",
                "stagesize_ax.set_ylim([0, 1.5])\n",
                "stagesize_ax.set_yticks([0, 0.5, 1, 1.5])\n",
                "stagesize_ax.set_ylabel(stagesize_title, multialignment='center', fontproperties=ft)\n",
                "# stagesize_ax2.set_ylim([0., 1.])\n",
                "# stagesize_ax2.set_ylabel('Committed Block Hit Rate', multialignment='center', fontproperties=ft)\n",
                "''' legend '''\n",
                "# h, l = stagesize_ax.get_legend_handles_labels()\n",
                "# stagesize_ax.legend(handles=[item for item in h[:-1]], labels= [item for item in l[:-1]])\n",
                "\n",
                "legend = [scheme_dict[item] for item in scheme_dict]\n",
                "fig.legend(stagesize_h, legend, loc='upper left', bbox_to_anchor=(0.1, 1.13),\n",
                "        ncol=4, frameon=False, prop=ft, columnspacing=1, labelspacing=0.1)\n",
                "\n",
                "''' last resize '''\n",
                "plt.tight_layout()\n",
                "# easypyplot.format.resize_ax_box(stagesize_ax, hratio=0.8)"
            ]
        },
        {
            "cell_type": "code",
            "execution_count": 93,
            "metadata": {},
            "outputs": [],
            "source": [
                "''' Save figures'''\n",
                "fig.savefig('/scorpio/home/liyiwei/micro22rebuttal/graph_perf_lowassoc.pdf', format=\"pdf\", bbox_inches = 'tight')\n",
                "# easypyplot.pdf.plot_teardown(pp) # it generates wierd chopped figures"
            ]
        },
        {
            "cell_type": "markdown",
            "metadata": {},
            "source": [
                "## High-assoc"
            ]
        },
        {
            "cell_type": "code",
            "execution_count": 94,
            "metadata": {},
            "outputs": [
                {
                    "name": "stdout",
                    "output_type": "stream",
                    "text": [
                        "[[1.0, 1.3851],\n",
                        " [1.0, 1.1036],\n",
                        " [1.0, 1.2089],\n",
                        " [1.0, 1.0254],\n",
                        " [1.0, 0.9751],\n",
                        " [1.0, 1.5007],\n",
                        " [1.0, 1.0101],\n",
                        " [1.0, 1.3921],\n",
                        " [1.0, 1.3228],\n",
                        " [1.0, 0.9747],\n",
                        " [1.0, 1.0412],\n",
                        " [1.0, 1.2149],\n",
                        " [1.0, 1.1397],\n",
                        " [1.0, 1.0261],\n",
                        " [1.0, 1.4977],\n",
                        " [1.0, 1.1928],\n",
                        " [1.0, 1.1326],\n",
                        " [1.0, 1.0584],\n",
                        " [1.0, 1.1662]]\n",
                        "['#f4cae4', (0.9019607843137255, 0.8458221462859002, 0.7634854771784233, 1.0)]\n"
                    ]
                }
            ],
            "source": [
                "\n",
                "''' Stage Size: Load data from file. '''\n",
                "csv_path = './1_performance/highassoc.csv'\n",
                "workload_list = ['602', '603', '605', '607', '619', '620', '627', '649', '654', '657', 'twitter', 'web', 'resnet50', 'resnext50', 'YCSB-A', 'YCSB-B', 'Geomean']\n",
                "scheme_list = ['Hybrid2', 'Baryon-High']\n",
                "workload_dict = {item: item for item in workload_list}\n",
                "scheme_dict = {item: item for item in scheme_list}\n",
                "\n",
                "stagesize_title = 'Normalized Performance'\n",
                "fig_name = 'graph_perf_highassoc'\n",
                "stagesize_ylim = (0, 1.6)\n",
                "stagesize_yticks = list(np.arange(stagesize_ylim[0], stagesize_ylim[1]+0.01, 0.5))\n",
                "\n",
                "fpcache_color = new_color[0]\n",
                "yacc_color = new_color[2]\n",
                "baryon_color = new_color[6]\n",
                "hybrid2_color = new_color[3]\n",
                "yacc_high_color = easypyplot.color.color_scale(yacc_color, 2, low=0.8, high=0.9) [1]\n",
                "baryon_high_color = easypyplot.color.color_scale(baryon_color, 2, low=0.8, high=0.9) [1]\n",
                "stagesize_bar_colors = [hybrid2_color, baryon_high_color]\n",
                "assert len(stagesize_bar_colors) == len(scheme_dict)\n",
                "\n",
                "# pprint(stagesize_yticks)\n",
                "csv_hd = pd.read_csv(csv_path, sep=',')\n",
                "stagesize_xlabels = []\n",
                "stagesize_xticks = []\n",
                "stagesize_data_2darr = []\n",
                "xtick = -1\n",
                "for idx, row in csv_hd.iterrows():\n",
                "    workload_fullname = row[0]\n",
                "    if any(workload in workload_fullname for workload in workload_list):\n",
                "        row_value = []\n",
                "        for col in row.keys():\n",
                "            if any(scheme in col for scheme in scheme_dict):\n",
                "                row_value.append(row[col])\n",
                "        stagesize_data_2darr.append(row_value)\n",
                "        workload_shortname = workload_fullname\n",
                "        if workload_fullname.startswith('6'):\n",
                "            workload_shortname = workload_fullname[0:3]\n",
                "        stagesize_xlabels.append(workload_shortname)\n",
                "        xtick += 1\n",
                "        stagesize_xticks.append(xtick)\n",
                "assert len(stagesize_data_2darr) == len(stagesize_xlabels) == len(stagesize_xticks)\n",
                "\n",
                "pprint(stagesize_data_2darr)\n",
                "\n",
                "pprint(stagesize_bar_colors)"
            ]
        },
        {
            "cell_type": "code",
            "execution_count": 95,
            "metadata": {},
            "outputs": [
                {
                    "data": {
                        "image/png": "[encoded data removed]",
                        "text/plain": [
                            "<Figure size 360x144 with 1 Axes>"
                        ]
                    },
                    "metadata": {
                        "needs_background": "light"
                    },
                    "output_type": "display_data"
                }
            ],
            "source": [
                "''' Ploting script '''\n",
                "pp, fig = easypyplot.pdf.plot_setup(fig_name, fig_dims)\n",
                "stagesize_ax = fig.add_subplot(1, 1, 1)\n",
                "# stagesize_ax2 = stagesize_ax.twinx()\n",
                "# easypyplot.format.turn_off_box(stagesize_ax, twinx_axes=stagesize_ax2)\n",
                "easypyplot.format.turn_off_box(stagesize_ax)\n",
                "stagesize_h = easypyplot.barchart.draw(\n",
                "    stagesize_ax, stagesize_data_2darr,\n",
                "    width=fig_bar_width,\n",
                "    breakdown=False,\n",
                "    group_names=stagesize_xlabels,\n",
                "    xticks=stagesize_xticks,\n",
                "    xticklabelfontsize=fig_label_fontsize,\n",
                "    xticklabelrotation=90,\n",
                "    prop=ft,\n",
                "    colors=stagesize_bar_colors)\n",
                "''' x axis '''\n",
                "stagesize_ax.set_xlim([stagesize_ax.get_xticks()[0] - 1, stagesize_ax.get_xticks()[-1] + 1])\n",
                "stagesize_ax.set_xticks(stagesize_xticks)\n",
                "stagesize_ax.set_xticklabels(stagesize_xlabels, fontsize=fig_label_fontsize, fontproperties=ft)\n",
                "stagesize_ax.xaxis.set_ticks_position('none') # Comment this and the next line for visible ticks\n",
                "# stagesize_ax.tick_params(direction='in') # [in, out, inout]\n",
                "stagesize_ax.set_xlabel('', fontproperties=ft)\n",
                "''' y axis '''\n",
                "stagesize_ax.yaxis.grid(True)\n",
                "stagesize_ax.set_ylim((0, 1.5))\n",
                "stagesize_ax.set_yticks(stagesize_yticks)\n",
                "stagesize_ax.set_ylabel(stagesize_title, multialignment='center', fontproperties=ft)\n",
                "# stagesize_ax2.set_ylim([0., 1.])\n",
                "# stagesize_ax2.set_ylabel('Committed Block Hit Rate', multialignment='center', fontproperties=ft)\n",
                "''' legend '''\n",
                "# h, l = stagesize_ax.get_legend_handles_labels()\n",
                "# stagesize_ax.legend(handles=[item for item in h[:-1]], labels= [item for item in l[:-1]])\n",
                "\n",
                "# stagesize_ax.text(5 + fig_bar_width - 0.3, 1.5, '2.07', color='#000000', fontproperties=ft)\n",
                "# stagesize_ax.text(14 + fig_bar_width - 0.3, 1.5, '1.62', color='#000000', fontproperties=ft)\n",
                "\n",
                "legend = [scheme_dict[item] for item in scheme_dict]\n",
                "fig.legend(stagesize_h, legend, loc='upper left', bbox_to_anchor=(0.1, 1.13),\n",
                "        ncol=3, frameon=False, prop=ft, columnspacing=1, labelspacing=0.1)\n",
                "\n",
                "''' last resize '''\n",
                "plt.tight_layout()\n",
                "easypyplot.format.resize_ax_box(stagesize_ax, hratio=0.8)"
            ]
        },
        {
            "cell_type": "code",
            "execution_count": 96,
            "metadata": {},
            "outputs": [
                {
                    "ename": "",
                    "evalue": "",
                    "output_type": "error",
                    "traceback": [
                        "\u001b[1;31mThe Kernel crashed while executing code in the the current cell or a previous cell. Please review the code in the cell(s) to identify a possible cause of the failure. Click <a href='https://aka.ms/vscodeJupyterKernelCrash'>here</a> for more info. View Jupyter <a href='command:jupyter.viewOutput'>log</a> for further details."
                    ]
                }
            ],
            "source": [
                "''' Save figures'''\n",
                "fig.savefig('/scorpio/home/liyiwei/micro22rebuttal/graph_perf_highassoc.pdf', format=\"pdf\", bbox_inches = 'tight')\n",
                "# easypyplot.pdf.plot_teardown(pp) # it generates wierd chopped figures"
            ]
        }
    ],
    "metadata": {
        "interpreter": {
            "hash": "1207dff62df778be21e834c7da48153383c263f80b9452aa83a0e3199f60a4f5"
        },
        "kernelspec": {
            "display_name": "Python 3.8.5 ('base')",
            "language": "python",
            "name": "python3"
        },
        "language_info": {
            "codemirror_mode": {
                "name": "ipython",
                "version": 3
            },
            "file_extension": ".py",
            "mimetype": "text/x-python",
            "name": "python",
            "nbconvert_exporter": "python",
            "pygments_lexer": "ipython3",
            "version": "3.8.5"
        },
        "orig_nbformat": 4
    },
    "nbformat": 4,
    "nbformat_minor": 2
}
