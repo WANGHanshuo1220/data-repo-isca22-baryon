{
 "cells": [
  {
   "cell_type": "code",
   "execution_count": 1,
   "metadata": {},
   "outputs": [],
   "source": [
    "''' Required packages. Use python3 -m pip install xxx for all the packages. '''\n",
    "from pprint import pprint\n",
    "import pandas as pd\n",
    "import numpy as np\n",
    "import matplotlib.font_manager as fm\n",
    "from matplotlib import pyplot as plt\n",
    "import easypyplot\n",
    "%load_ext autoreload\n",
    "%autoreload 2"
   ]
  },
  {
   "cell_type": "code",
   "execution_count": 2,
   "metadata": {},
   "outputs": [],
   "source": [
    "''' [TODO] Figure properties. Specify the csv file and corresponding labels. '''\n",
    "workload_list = [\n",
    "    '502',\n",
    "    '503',\n",
    "    '505',\n",
    "    '507',\n",
    "    '519',\n",
    "    '520',\n",
    "    '527',\n",
    "    '549',\n",
    "    '554',\n",
    "    '557',\n",
    "    'pr.twi',\n",
    "    'cc.twi',\n",
    "    'pr.web',\n",
    "    'cc.web',\n",
    "    'resnet50',\n",
    "    'resnext50',\n",
    "    'YCSB-A',\n",
    "    'YCSB-B',\n",
    "    'Geomean',\n",
    "]\n",
    "scheme_list = ['Sub-blocking', 'Compression', 'Stage']\n",
    "workload_dict = {item: item for item in workload_list}\n",
    "scheme_dict = {item: item for item in scheme_list}\n",
    "\n",
    "fig_title = 'Performance Breakdown'\n",
    "fig_name = 'graph_perf_breakdown'\n",
    "fig_ylim = (0, 1)\n",
    "fig_yticks = list(np.arange(fig_ylim[0], fig_ylim[1]+0.1, 0.25))\n",
    "new_color = [\n",
    "'#b3e2cd',\n",
    "'#fdcdac',\n",
    "'#cbd5e8',\n",
    "'#f4cae4',\n",
    "'#e6f5c9',\n",
    "'#fff2ae',\n",
    "'#f1e2cc',\n",
    "'#cccccc',\n",
    "]\n",
    "baryon_color = new_color[2]\n",
    "fig_bar_colors = easypyplot.color.color_scale(baryon_color, len(scheme_dict), low=0.7, high=1.0)\n",
    "assert len(fig_bar_colors) == len(scheme_dict)\n",
    "\n",
    "# pprint(fig_yticks)"
   ]
  },
  {
   "cell_type": "code",
   "execution_count": 3,
   "metadata": {},
   "outputs": [],
   "source": [
    "''' Plot parameters. Change only if you want to resize the graph, etc. '''\n",
    "fig_bar_width = 0.75\n",
    "fig_dims = (5, 2)\n",
    "fig_label_fontsize = 10\n",
    "ft = fm.FontProperties('Times New Roman')\n",
    "ft.set_size(10.0)"
   ]
  },
  {
   "cell_type": "code",
   "execution_count": 4,
   "metadata": {},
   "outputs": [
    {
     "name": "stdout",
     "output_type": "stream",
     "text": [
      "[[0.55, 0.35, 0.11], [0.35, 0.4, 0.25], [0.15, 0.46, 0.39], [0.43, 0.14, 0.43], [0.7, 0.01, 0.29], [0.78, 0.21, 0.01], [0.67, 0.05, 0.28], [0.11, 0.67, 0.23], [0.5, 0.36, 0.14], [0.85, 0.15, 0.0], [0.47, 0.25, 0.28], [0.31, 0.28, 0.41], [0.78, 0.1, 0.12], [0.79, 0.04, 0.18], [0.61, 0.3, 0.09], [0.6, 0.3, 0.1], [0.51, 0.1, 0.39], [0.7, 0.19, 0.1], [0.58, 0.25, 0.17]]\n"
     ]
    }
   ],
   "source": [
    "''' Load data from file. '''\n",
    "csv_path = './1_performance/breakdown.csv'\n",
    "csv_hd = pd.read_csv(csv_path, sep=',')\n",
    "fig_xlabels = []\n",
    "fig_stage_xticks = []\n",
    "fig_data_stage_2darr = []\n",
    "xtick = 1\n",
    "schemedict1 = [item for item in scheme_dict]\n",
    "for idx, row in csv_hd.iterrows():\n",
    "    workload_fullname = row[0]\n",
    "    if any(workload in workload_fullname for workload in workload_list):\n",
    "        row_value = []\n",
    "        for col in row.keys():\n",
    "            if any(scheme in col for scheme in schemedict1):\n",
    "                row_value.append(row[col])\n",
    "        fig_data_stage_2darr.append(row_value)\n",
    "        name = workload_fullname\n",
    "        if workload_fullname.endswith('_r'):\n",
    "            name = name[:3]\n",
    "        fig_xlabels.append(name)\n",
    "        xtick += 2\n",
    "        fig_stage_xticks.append(xtick)\n",
    "assert len(fig_data_stage_2darr) == len(fig_xlabels) == len(fig_stage_xticks)\n",
    "print(fig_data_stage_2darr)"
   ]
  },
  {
   "cell_type": "code",
   "execution_count": 5,
   "metadata": {},
   "outputs": [
    {
     "data": {
      "image/png": "[encoded data removed]",
      "text/plain": [
       "<Figure size 360x144 with 1 Axes>"
      ]
     },
     "metadata": {
      "needs_background": "light"
     },
     "output_type": "display_data"
    }
   ],
   "source": [
    "''' Ploting script '''\n",
    "pp, fig = easypyplot.pdf.plot_setup(fig_name, fig_dims)\n",
    "ax = fig.add_subplot(1, 1, 1)\n",
    "easypyplot.format.turn_off_box(ax)\n",
    "h = easypyplot.barchart.draw(\n",
    "    ax, fig_data_stage_2darr,\n",
    "    width=fig_bar_width,\n",
    "    breakdown=True,\n",
    "    group_names=fig_xlabels,\n",
    "    xticks=fig_stage_xticks,\n",
    "    # xticklabelfontsize=fig_label_fontsize,\n",
    "    xticklabelrotation=90, # Uncomment this for rotated x tick labels\n",
    "    colors=fig_bar_colors)\n",
    "\n",
    "''' x axis '''\n",
    "ax.xaxis.set_tick_params(pad=-2)\n",
    "fig_xticks_fix = [item + 0.5 for item in fig_stage_xticks]\n",
    "ax.set_xticks(fig_xticks_fix)\n",
    "ax.set_xticklabels(fig_xlabels, fontsize=fig_label_fontsize, fontproperties=ft, ha='right')\n",
    "ax.xaxis.set_ticks_position('none') # Comment this and the next line for visible ticks\n",
    "# ax.tick_params(direction='in') # [in, out, inout]\n",
    "# ax.set_xlabel(fig_title)\n",
    "\n",
    "''' y axis '''\n",
    "ax.yaxis.grid(True)\n",
    "ax.set_ylim(fig_ylim)\n",
    "ax.set_yticks(fig_yticks)\n",
    "str_yticks = ['%.2f' % item for item in fig_yticks]\n",
    "ax.set_yticklabels(str_yticks, fontsize=fig_label_fontsize, fontproperties=ft)\n",
    "ax.set_ylabel(fig_title, multialignment='center', fontsize=fig_label_fontsize, fontproperties=ft)\n",
    "\n",
    "''' legend '''\n",
    "legend = [scheme_dict[item] for item in scheme_dict]\n",
    "fig.legend(h, legend, loc='upper center', bbox_to_anchor=(0.5, 1.10),\n",
    "        ncol=4, frameon=False, prop=ft)\n",
    "\n",
    "''' last resize '''\n",
    "plt.tight_layout()\n",
    "easypyplot.format.resize_ax_box(ax, hratio=1.0)"
   ]
  },
  {
   "cell_type": "code",
   "execution_count": 6,
   "metadata": {},
   "outputs": [],
   "source": [
    "''' Save figures'''\n",
    "fig.savefig(fig_name+'.pdf', format=\"pdf\", bbox_inches = 'tight')\n",
    "# easypyplot.pdf.plot_teardown(pp) # it generates wierd chopped figures"
   ]
  }
 ],
 "metadata": {
  "kernelspec": {
   "display_name": "Python 3.8.5 ('base')",
   "language": "python",
   "name": "python3"
  },
  "language_info": {
   "codemirror_mode": {
    "name": "ipython",
    "version": 3
   },
   "file_extension": ".py",
   "mimetype": "text/x-python",
   "name": "python",
   "nbconvert_exporter": "python",
   "pygments_lexer": "ipython3",
   "version": "3.8.5"
  },
  "vscode": {
   "interpreter": {
    "hash": "1207dff62df778be21e834c7da48153383c263f80b9452aa83a0e3199f60a4f5"
   }
  }
 },
 "nbformat": 4,
 "nbformat_minor": 2
}
